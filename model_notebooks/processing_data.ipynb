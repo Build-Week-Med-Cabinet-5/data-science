{
 "cells": [
  {
   "cell_type": "code",
   "execution_count": 1,
   "metadata": {},
   "outputs": [
    {
     "name": "stderr",
     "output_type": "stream",
     "text": [
      "In /Users/amybeisel/opt/anaconda3/envs/U4-S1-NLP/lib/python3.7/site-packages/matplotlib/mpl-data/stylelib/_classic_test.mplstyle: \n",
      "The savefig.frameon rcparam was deprecated in Matplotlib 3.1 and will be removed in 3.3.\n",
      "In /Users/amybeisel/opt/anaconda3/envs/U4-S1-NLP/lib/python3.7/site-packages/matplotlib/mpl-data/stylelib/_classic_test.mplstyle: \n",
      "The verbose.level rcparam was deprecated in Matplotlib 3.1 and will be removed in 3.3.\n",
      "In /Users/amybeisel/opt/anaconda3/envs/U4-S1-NLP/lib/python3.7/site-packages/matplotlib/mpl-data/stylelib/_classic_test.mplstyle: \n",
      "The verbose.fileo rcparam was deprecated in Matplotlib 3.1 and will be removed in 3.3.\n"
     ]
    }
   ],
   "source": [
    "import pandas as pd\n",
    "import re\n",
    "import string\n",
    "import matplotlib.pyplot as plt\n",
    "import numpy as np\n",
    "import spacy\n",
    "from sklearn.feature_extraction.text import CountVectorizer, TfidfVectorizer\n"
   ]
  },
  {
   "cell_type": "code",
   "execution_count": 2,
   "metadata": {},
   "outputs": [],
   "source": [
    "df = pd.read_csv('data/cannabis.csv')"
   ]
  },
  {
   "cell_type": "code",
   "execution_count": null,
   "metadata": {},
   "outputs": [],
   "source": []
  },
  {
   "cell_type": "code",
   "execution_count": 3,
   "metadata": {},
   "outputs": [
    {
     "name": "stdout",
     "output_type": "stream",
     "text": [
      "(2351, 6)\n"
     ]
    },
    {
     "data": {
      "text/html": [
       "<div>\n",
       "<style scoped>\n",
       "    .dataframe tbody tr th:only-of-type {\n",
       "        vertical-align: middle;\n",
       "    }\n",
       "\n",
       "    .dataframe tbody tr th {\n",
       "        vertical-align: top;\n",
       "    }\n",
       "\n",
       "    .dataframe thead th {\n",
       "        text-align: right;\n",
       "    }\n",
       "</style>\n",
       "<table border=\"1\" class=\"dataframe\">\n",
       "  <thead>\n",
       "    <tr style=\"text-align: right;\">\n",
       "      <th></th>\n",
       "      <th>Strain</th>\n",
       "      <th>Type</th>\n",
       "      <th>Rating</th>\n",
       "      <th>Effects</th>\n",
       "      <th>Flavor</th>\n",
       "      <th>Description</th>\n",
       "    </tr>\n",
       "  </thead>\n",
       "  <tbody>\n",
       "    <tr>\n",
       "      <th>0</th>\n",
       "      <td>100-Og</td>\n",
       "      <td>hybrid</td>\n",
       "      <td>4.0</td>\n",
       "      <td>Creative,Energetic,Tingly,Euphoric,Relaxed</td>\n",
       "      <td>Earthy,Sweet,Citrus</td>\n",
       "      <td>$100 OG is a 50/50 hybrid strain that packs a ...</td>\n",
       "    </tr>\n",
       "    <tr>\n",
       "      <th>1</th>\n",
       "      <td>98-White-Widow</td>\n",
       "      <td>hybrid</td>\n",
       "      <td>4.7</td>\n",
       "      <td>Relaxed,Aroused,Creative,Happy,Energetic</td>\n",
       "      <td>Flowery,Violet,Diesel</td>\n",
       "      <td>The ‘98 Aloha White Widow is an especially pot...</td>\n",
       "    </tr>\n",
       "    <tr>\n",
       "      <th>2</th>\n",
       "      <td>1024</td>\n",
       "      <td>sativa</td>\n",
       "      <td>4.4</td>\n",
       "      <td>Uplifted,Happy,Relaxed,Energetic,Creative</td>\n",
       "      <td>Spicy/Herbal,Sage,Woody</td>\n",
       "      <td>1024 is a sativa-dominant hybrid bred in Spain...</td>\n",
       "    </tr>\n",
       "    <tr>\n",
       "      <th>3</th>\n",
       "      <td>13-Dawgs</td>\n",
       "      <td>hybrid</td>\n",
       "      <td>4.2</td>\n",
       "      <td>Tingly,Creative,Hungry,Relaxed,Uplifted</td>\n",
       "      <td>Apricot,Citrus,Grapefruit</td>\n",
       "      <td>13 Dawgs is a hybrid of G13 and Chemdawg genet...</td>\n",
       "    </tr>\n",
       "    <tr>\n",
       "      <th>4</th>\n",
       "      <td>24K-Gold</td>\n",
       "      <td>hybrid</td>\n",
       "      <td>4.6</td>\n",
       "      <td>Happy,Relaxed,Euphoric,Uplifted,Talkative</td>\n",
       "      <td>Citrus,Earthy,Orange</td>\n",
       "      <td>Also known as Kosher Tangie, 24k Gold is a 60%...</td>\n",
       "    </tr>\n",
       "    <tr>\n",
       "      <th>...</th>\n",
       "      <td>...</td>\n",
       "      <td>...</td>\n",
       "      <td>...</td>\n",
       "      <td>...</td>\n",
       "      <td>...</td>\n",
       "      <td>...</td>\n",
       "    </tr>\n",
       "    <tr>\n",
       "      <th>2346</th>\n",
       "      <td>Zeus-Og</td>\n",
       "      <td>hybrid</td>\n",
       "      <td>4.7</td>\n",
       "      <td>Happy,Uplifted,Relaxed,Euphoric,Energetic</td>\n",
       "      <td>Earthy,Woody,Pine</td>\n",
       "      <td>Zeus OG is a hybrid cross between Pineapple OG...</td>\n",
       "    </tr>\n",
       "    <tr>\n",
       "      <th>2347</th>\n",
       "      <td>Zkittlez</td>\n",
       "      <td>indica</td>\n",
       "      <td>4.6</td>\n",
       "      <td>Relaxed,Happy,Euphoric,Uplifted,Sleepy</td>\n",
       "      <td>Sweet,Berry,Grape</td>\n",
       "      <td>Zkittlez is an indica-dominant mix of Grape Ap...</td>\n",
       "    </tr>\n",
       "    <tr>\n",
       "      <th>2348</th>\n",
       "      <td>Zombie-Kush</td>\n",
       "      <td>indica</td>\n",
       "      <td>5.0</td>\n",
       "      <td>Relaxed,Sleepy,Talkative,Euphoric,Happy</td>\n",
       "      <td>Earthy,Sweet,Spicy/Herbal</td>\n",
       "      <td>Zombie Kush by Ripper Seeds comes from two dif...</td>\n",
       "    </tr>\n",
       "    <tr>\n",
       "      <th>2349</th>\n",
       "      <td>Zombie-Og</td>\n",
       "      <td>indica</td>\n",
       "      <td>4.4</td>\n",
       "      <td>Relaxed,Sleepy,Euphoric,Happy,Hungry</td>\n",
       "      <td>Sweet,Earthy,Pungent</td>\n",
       "      <td>If you’re looking to transform into a flesh-ea...</td>\n",
       "    </tr>\n",
       "    <tr>\n",
       "      <th>2350</th>\n",
       "      <td>Zoom-Pie</td>\n",
       "      <td>indica</td>\n",
       "      <td>4.6</td>\n",
       "      <td>Hungry,Relaxed,Uplifted,Happy,Sleepy</td>\n",
       "      <td>Berry,Earthy,Pungent</td>\n",
       "      <td>Zoom Pie (also known as Zombie Pie) is a heavy...</td>\n",
       "    </tr>\n",
       "  </tbody>\n",
       "</table>\n",
       "<p>2351 rows × 6 columns</p>\n",
       "</div>"
      ],
      "text/plain": [
       "              Strain    Type  Rating  \\\n",
       "0             100-Og  hybrid     4.0   \n",
       "1     98-White-Widow  hybrid     4.7   \n",
       "2               1024  sativa     4.4   \n",
       "3           13-Dawgs  hybrid     4.2   \n",
       "4           24K-Gold  hybrid     4.6   \n",
       "...              ...     ...     ...   \n",
       "2346         Zeus-Og  hybrid     4.7   \n",
       "2347        Zkittlez  indica     4.6   \n",
       "2348     Zombie-Kush  indica     5.0   \n",
       "2349       Zombie-Og  indica     4.4   \n",
       "2350        Zoom-Pie  indica     4.6   \n",
       "\n",
       "                                         Effects                     Flavor  \\\n",
       "0     Creative,Energetic,Tingly,Euphoric,Relaxed        Earthy,Sweet,Citrus   \n",
       "1       Relaxed,Aroused,Creative,Happy,Energetic      Flowery,Violet,Diesel   \n",
       "2      Uplifted,Happy,Relaxed,Energetic,Creative    Spicy/Herbal,Sage,Woody   \n",
       "3        Tingly,Creative,Hungry,Relaxed,Uplifted  Apricot,Citrus,Grapefruit   \n",
       "4      Happy,Relaxed,Euphoric,Uplifted,Talkative       Citrus,Earthy,Orange   \n",
       "...                                          ...                        ...   \n",
       "2346   Happy,Uplifted,Relaxed,Euphoric,Energetic          Earthy,Woody,Pine   \n",
       "2347      Relaxed,Happy,Euphoric,Uplifted,Sleepy          Sweet,Berry,Grape   \n",
       "2348     Relaxed,Sleepy,Talkative,Euphoric,Happy  Earthy,Sweet,Spicy/Herbal   \n",
       "2349        Relaxed,Sleepy,Euphoric,Happy,Hungry       Sweet,Earthy,Pungent   \n",
       "2350        Hungry,Relaxed,Uplifted,Happy,Sleepy       Berry,Earthy,Pungent   \n",
       "\n",
       "                                            Description  \n",
       "0     $100 OG is a 50/50 hybrid strain that packs a ...  \n",
       "1     The ‘98 Aloha White Widow is an especially pot...  \n",
       "2     1024 is a sativa-dominant hybrid bred in Spain...  \n",
       "3     13 Dawgs is a hybrid of G13 and Chemdawg genet...  \n",
       "4     Also known as Kosher Tangie, 24k Gold is a 60%...  \n",
       "...                                                 ...  \n",
       "2346  Zeus OG is a hybrid cross between Pineapple OG...  \n",
       "2347  Zkittlez is an indica-dominant mix of Grape Ap...  \n",
       "2348  Zombie Kush by Ripper Seeds comes from two dif...  \n",
       "2349  If you’re looking to transform into a flesh-ea...  \n",
       "2350  Zoom Pie (also known as Zombie Pie) is a heavy...  \n",
       "\n",
       "[2351 rows x 6 columns]"
      ]
     },
     "execution_count": 3,
     "metadata": {},
     "output_type": "execute_result"
    }
   ],
   "source": [
    "print(df.shape)\n",
    "df\n"
   ]
  },
  {
   "cell_type": "code",
   "execution_count": 4,
   "metadata": {},
   "outputs": [
    {
     "data": {
      "text/plain": [
       "0"
      ]
     },
     "execution_count": 4,
     "metadata": {},
     "output_type": "execute_result"
    }
   ],
   "source": [
    "df['Effects'].isnull().sum()"
   ]
  },
  {
   "cell_type": "code",
   "execution_count": 5,
   "metadata": {},
   "outputs": [
    {
     "data": {
      "text/plain": [
       "False    2318\n",
       "True       33\n",
       "Name: Description, dtype: int64"
      ]
     },
     "execution_count": 5,
     "metadata": {},
     "output_type": "execute_result"
    }
   ],
   "source": [
    "df['Description'].isnull().value_counts()"
   ]
  },
  {
   "cell_type": "code",
   "execution_count": 6,
   "metadata": {},
   "outputs": [
    {
     "data": {
      "text/html": [
       "<div>\n",
       "<style scoped>\n",
       "    .dataframe tbody tr th:only-of-type {\n",
       "        vertical-align: middle;\n",
       "    }\n",
       "\n",
       "    .dataframe tbody tr th {\n",
       "        vertical-align: top;\n",
       "    }\n",
       "\n",
       "    .dataframe thead th {\n",
       "        text-align: right;\n",
       "    }\n",
       "</style>\n",
       "<table border=\"1\" class=\"dataframe\">\n",
       "  <thead>\n",
       "    <tr style=\"text-align: right;\">\n",
       "      <th></th>\n",
       "      <th>Strain</th>\n",
       "      <th>Type</th>\n",
       "      <th>Rating</th>\n",
       "      <th>Effects</th>\n",
       "      <th>Flavor</th>\n",
       "      <th>Description</th>\n",
       "    </tr>\n",
       "  </thead>\n",
       "  <tbody>\n",
       "    <tr>\n",
       "      <th>163</th>\n",
       "      <td>Banana-Candy</td>\n",
       "      <td>indica</td>\n",
       "      <td>4.2</td>\n",
       "      <td>Relaxed,Euphoric,Uplifted,Creative,Happy</td>\n",
       "      <td>Tree,Fruit,Earthy,Sweet</td>\n",
       "      <td>NaN</td>\n",
       "    </tr>\n",
       "    <tr>\n",
       "      <th>368</th>\n",
       "      <td>Boysenberry</td>\n",
       "      <td>hybrid</td>\n",
       "      <td>3.6</td>\n",
       "      <td>Giggly,Relaxed,Talkative,Energetic,Euphoric</td>\n",
       "      <td>Berry,Sweet,Earthy</td>\n",
       "      <td>NaN</td>\n",
       "    </tr>\n",
       "    <tr>\n",
       "      <th>594</th>\n",
       "      <td>Crater-Lake</td>\n",
       "      <td>hybrid</td>\n",
       "      <td>4.6</td>\n",
       "      <td>Happy,Uplifted,Talkative,Relaxed,Creative</td>\n",
       "      <td>Citrus,Pine,Pungent</td>\n",
       "      <td>NaN</td>\n",
       "    </tr>\n",
       "    <tr>\n",
       "      <th>679</th>\n",
       "      <td>Domino</td>\n",
       "      <td>indica</td>\n",
       "      <td>4.0</td>\n",
       "      <td>Sleepy,Happy,Tingly,Uplifted,Euphoric</td>\n",
       "      <td>NaN</td>\n",
       "      <td>NaN</td>\n",
       "    </tr>\n",
       "    <tr>\n",
       "      <th>736</th>\n",
       "      <td>Earthquake</td>\n",
       "      <td>hybrid</td>\n",
       "      <td>4.5</td>\n",
       "      <td>Creative,Euphoric,Uplifted,Happy,Energetic</td>\n",
       "      <td>Woody,Pine,Earthy</td>\n",
       "      <td>NaN</td>\n",
       "    </tr>\n",
       "    <tr>\n",
       "      <th>817</th>\n",
       "      <td>Frosty</td>\n",
       "      <td>indica</td>\n",
       "      <td>4.4</td>\n",
       "      <td>Sleepy,Relaxed,Creative,Hungry,Happy</td>\n",
       "      <td>Earthy,Sweet,Skunk</td>\n",
       "      <td>NaN</td>\n",
       "    </tr>\n",
       "    <tr>\n",
       "      <th>856</th>\n",
       "      <td>Ghost-Bubba</td>\n",
       "      <td>hybrid</td>\n",
       "      <td>4.6</td>\n",
       "      <td>Happy,Energetic,Uplifted,Relaxed,Giggly</td>\n",
       "      <td>Sweet,Pungent,Grape</td>\n",
       "      <td>NaN</td>\n",
       "    </tr>\n",
       "    <tr>\n",
       "      <th>899</th>\n",
       "      <td>Goldwing</td>\n",
       "      <td>sativa</td>\n",
       "      <td>4.7</td>\n",
       "      <td>Uplifted,Happy,Euphoric,Creative,Energetic</td>\n",
       "      <td>NaN</td>\n",
       "      <td>NaN</td>\n",
       "    </tr>\n",
       "    <tr>\n",
       "      <th>949</th>\n",
       "      <td>Green-Hornet</td>\n",
       "      <td>hybrid</td>\n",
       "      <td>4.2</td>\n",
       "      <td>Euphoric,Uplifted,Relaxed,Giggly,Happy</td>\n",
       "      <td>Sweet,Woody,Pine</td>\n",
       "      <td>NaN</td>\n",
       "    </tr>\n",
       "    <tr>\n",
       "      <th>955</th>\n",
       "      <td>Green-Monster</td>\n",
       "      <td>hybrid</td>\n",
       "      <td>3.7</td>\n",
       "      <td>Happy,Relaxed,Uplifted,Hungry,Giggly</td>\n",
       "      <td>Earthy,Chemical,Tar</td>\n",
       "      <td>NaN</td>\n",
       "    </tr>\n",
       "    <tr>\n",
       "      <th>970</th>\n",
       "      <td>Guido-Kush</td>\n",
       "      <td>indica</td>\n",
       "      <td>4.1</td>\n",
       "      <td>Euphoric,Uplifted,Creative,Relaxed,Sleepy</td>\n",
       "      <td>NaN</td>\n",
       "      <td>NaN</td>\n",
       "    </tr>\n",
       "    <tr>\n",
       "      <th>1012</th>\n",
       "      <td>Hawaiian-Thunder-Fuck</td>\n",
       "      <td>hybrid</td>\n",
       "      <td>4.0</td>\n",
       "      <td>Uplifted,Creative,Euphoric,Energetic,Hungry</td>\n",
       "      <td>Earthy,Sweet,Citrus</td>\n",
       "      <td>NaN</td>\n",
       "    </tr>\n",
       "    <tr>\n",
       "      <th>1101</th>\n",
       "      <td>Jack-Kush</td>\n",
       "      <td>hybrid</td>\n",
       "      <td>4.1</td>\n",
       "      <td>Happy,Energetic,Giggly,Euphoric,Relaxed</td>\n",
       "      <td>Sweet,Citrus,Pungent</td>\n",
       "      <td>NaN</td>\n",
       "    </tr>\n",
       "    <tr>\n",
       "      <th>1199</th>\n",
       "      <td>Krakatoa</td>\n",
       "      <td>hybrid</td>\n",
       "      <td>4.0</td>\n",
       "      <td>Energetic,Euphoric,Sleepy,Uplifted,Happy</td>\n",
       "      <td>NaN</td>\n",
       "      <td>NaN</td>\n",
       "    </tr>\n",
       "    <tr>\n",
       "      <th>1289</th>\n",
       "      <td>Key-Lime-Haze</td>\n",
       "      <td>sativa</td>\n",
       "      <td>4.2</td>\n",
       "      <td>Happy,Uplifted,Euphoric,Energetic,Relaxed</td>\n",
       "      <td>Lime,Citrus,Sweet</td>\n",
       "      <td>NaN</td>\n",
       "    </tr>\n",
       "    <tr>\n",
       "      <th>1365</th>\n",
       "      <td>Matsu</td>\n",
       "      <td>indica</td>\n",
       "      <td>5.0</td>\n",
       "      <td>Euphoric,Tingly,Happy,Sleepy,Hungry</td>\n",
       "      <td>NaN</td>\n",
       "      <td>NaN</td>\n",
       "    </tr>\n",
       "    <tr>\n",
       "      <th>1368</th>\n",
       "      <td>Maui-Berry</td>\n",
       "      <td>hybrid</td>\n",
       "      <td>4.0</td>\n",
       "      <td>Happy,Creative,Uplifted,Hungry,Energetic</td>\n",
       "      <td>Berry,Citrus,Pungent</td>\n",
       "      <td>NaN</td>\n",
       "    </tr>\n",
       "    <tr>\n",
       "      <th>1476</th>\n",
       "      <td>Northern-Skunk</td>\n",
       "      <td>hybrid</td>\n",
       "      <td>4.5</td>\n",
       "      <td>Happy,Relaxed,Euphoric,Uplifted,Hungry</td>\n",
       "      <td>Skunk,Earthy,Pungent</td>\n",
       "      <td>NaN</td>\n",
       "    </tr>\n",
       "    <tr>\n",
       "      <th>1511</th>\n",
       "      <td>Old-Lyme-Connecticut-Og</td>\n",
       "      <td>hybrid</td>\n",
       "      <td>4.5</td>\n",
       "      <td>Energetic,Happy,Talkative,Uplifted,Euphoric</td>\n",
       "      <td>Tree,Fruit,Pungent,Pine</td>\n",
       "      <td>NaN</td>\n",
       "    </tr>\n",
       "    <tr>\n",
       "      <th>1513</th>\n",
       "      <td>Old-School-Og</td>\n",
       "      <td>hybrid</td>\n",
       "      <td>3.8</td>\n",
       "      <td>Sleepy,Relaxed,Tingly,Happy,Euphoric</td>\n",
       "      <td>Pungent,Skunk,Earthy</td>\n",
       "      <td>NaN</td>\n",
       "    </tr>\n",
       "    <tr>\n",
       "      <th>1542</th>\n",
       "      <td>Oregon-Pineapple</td>\n",
       "      <td>hybrid</td>\n",
       "      <td>4.2</td>\n",
       "      <td>Happy,Giggly,Uplifted,Relaxed,Creative</td>\n",
       "      <td>Pineapple,Sweet,Cheese</td>\n",
       "      <td>NaN</td>\n",
       "    </tr>\n",
       "    <tr>\n",
       "      <th>1544</th>\n",
       "      <td>Organic-Diesel</td>\n",
       "      <td>hybrid</td>\n",
       "      <td>4.5</td>\n",
       "      <td>Uplifted,Happy,Talkative,Energetic,Focused</td>\n",
       "      <td>Diesel,Pungent,Tobacco</td>\n",
       "      <td>NaN</td>\n",
       "    </tr>\n",
       "    <tr>\n",
       "      <th>1633</th>\n",
       "      <td>Platinum-Wreck</td>\n",
       "      <td>hybrid</td>\n",
       "      <td>4.1</td>\n",
       "      <td>Happy,Uplifted,Euphoric,Relaxed,Creative</td>\n",
       "      <td>Earthy,Pine,Sweet</td>\n",
       "      <td>NaN</td>\n",
       "    </tr>\n",
       "    <tr>\n",
       "      <th>1636</th>\n",
       "      <td>Poison-Haze</td>\n",
       "      <td>sativa</td>\n",
       "      <td>4.1</td>\n",
       "      <td>Energetic,Happy,Relaxed,Uplifted,Giggly</td>\n",
       "      <td>Citrus,Orange,Spicy/Herbal</td>\n",
       "      <td>NaN</td>\n",
       "    </tr>\n",
       "    <tr>\n",
       "      <th>1660</th>\n",
       "      <td>Pure-Og</td>\n",
       "      <td>indica</td>\n",
       "      <td>4.1</td>\n",
       "      <td>Happy,Tingly,Uplifted,Creative,Relaxed</td>\n",
       "      <td>Earthy,Pine,Flowery</td>\n",
       "      <td>NaN</td>\n",
       "    </tr>\n",
       "    <tr>\n",
       "      <th>1686</th>\n",
       "      <td>Purple-Elephant</td>\n",
       "      <td>indica</td>\n",
       "      <td>4.2</td>\n",
       "      <td>Relaxed,Sleepy,Giggly,Happy,Euphoric</td>\n",
       "      <td>Grape,Earthy,Woody</td>\n",
       "      <td>NaN</td>\n",
       "    </tr>\n",
       "    <tr>\n",
       "      <th>1726</th>\n",
       "      <td>Purple-Tonic</td>\n",
       "      <td>indica</td>\n",
       "      <td>3.2</td>\n",
       "      <td>Happy,Uplifted,Energetic,Euphoric,Sleepy</td>\n",
       "      <td>Blueberry,Nutty,Tree,Fruit</td>\n",
       "      <td>NaN</td>\n",
       "    </tr>\n",
       "    <tr>\n",
       "      <th>1801</th>\n",
       "      <td>Root-Beer-Kush</td>\n",
       "      <td>sativa</td>\n",
       "      <td>3.8</td>\n",
       "      <td>Relaxed,Uplifted,Energetic,Giggly,Creative</td>\n",
       "      <td>Sweet,Vanilla,Pungent</td>\n",
       "      <td>NaN</td>\n",
       "    </tr>\n",
       "    <tr>\n",
       "      <th>1860</th>\n",
       "      <td>Sierra-Mist</td>\n",
       "      <td>hybrid</td>\n",
       "      <td>4.7</td>\n",
       "      <td>Euphoric,Happy,Relaxed,Creative,Giggly</td>\n",
       "      <td>Citrus,Sweet,Diesel</td>\n",
       "      <td>NaN</td>\n",
       "    </tr>\n",
       "    <tr>\n",
       "      <th>1993</th>\n",
       "      <td>Starry-Night</td>\n",
       "      <td>hybrid</td>\n",
       "      <td>4.6</td>\n",
       "      <td>Euphoric,Happy,Focused,Tingly,Energetic</td>\n",
       "      <td>Berry,Earthy,Pungent</td>\n",
       "      <td>NaN</td>\n",
       "    </tr>\n",
       "    <tr>\n",
       "      <th>2101</th>\n",
       "      <td>Taliban-Poison</td>\n",
       "      <td>indica</td>\n",
       "      <td>3.7</td>\n",
       "      <td>Hungry,Aroused,Sleepy,Giggly,Happy</td>\n",
       "      <td>Diesel,Skunk,Pine</td>\n",
       "      <td>NaN</td>\n",
       "    </tr>\n",
       "    <tr>\n",
       "      <th>2195</th>\n",
       "      <td>Tropical-Tang</td>\n",
       "      <td>hybrid</td>\n",
       "      <td>4.5</td>\n",
       "      <td>Happy,Focused,Relaxed,Euphoric,Creative</td>\n",
       "      <td>Citrus,Apricot,Skunk</td>\n",
       "      <td>NaN</td>\n",
       "    </tr>\n",
       "    <tr>\n",
       "      <th>2321</th>\n",
       "      <td>Wonderwoman-Og</td>\n",
       "      <td>indica</td>\n",
       "      <td>4.0</td>\n",
       "      <td>Relaxed,Tingly,Euphoric,Aroused,Happy</td>\n",
       "      <td>Flowery,Menthol,Citrus</td>\n",
       "      <td>NaN</td>\n",
       "    </tr>\n",
       "  </tbody>\n",
       "</table>\n",
       "</div>"
      ],
      "text/plain": [
       "                       Strain    Type  Rating  \\\n",
       "163              Banana-Candy  indica     4.2   \n",
       "368               Boysenberry  hybrid     3.6   \n",
       "594               Crater-Lake  hybrid     4.6   \n",
       "679                    Domino  indica     4.0   \n",
       "736                Earthquake  hybrid     4.5   \n",
       "817                    Frosty  indica     4.4   \n",
       "856               Ghost-Bubba  hybrid     4.6   \n",
       "899                  Goldwing  sativa     4.7   \n",
       "949              Green-Hornet  hybrid     4.2   \n",
       "955             Green-Monster  hybrid     3.7   \n",
       "970                Guido-Kush  indica     4.1   \n",
       "1012    Hawaiian-Thunder-Fuck  hybrid     4.0   \n",
       "1101                Jack-Kush  hybrid     4.1   \n",
       "1199                 Krakatoa  hybrid     4.0   \n",
       "1289            Key-Lime-Haze  sativa     4.2   \n",
       "1365                    Matsu  indica     5.0   \n",
       "1368               Maui-Berry  hybrid     4.0   \n",
       "1476           Northern-Skunk  hybrid     4.5   \n",
       "1511  Old-Lyme-Connecticut-Og  hybrid     4.5   \n",
       "1513            Old-School-Og  hybrid     3.8   \n",
       "1542         Oregon-Pineapple  hybrid     4.2   \n",
       "1544           Organic-Diesel  hybrid     4.5   \n",
       "1633           Platinum-Wreck  hybrid     4.1   \n",
       "1636              Poison-Haze  sativa     4.1   \n",
       "1660                  Pure-Og  indica     4.1   \n",
       "1686          Purple-Elephant  indica     4.2   \n",
       "1726             Purple-Tonic  indica     3.2   \n",
       "1801           Root-Beer-Kush  sativa     3.8   \n",
       "1860              Sierra-Mist  hybrid     4.7   \n",
       "1993             Starry-Night  hybrid     4.6   \n",
       "2101           Taliban-Poison  indica     3.7   \n",
       "2195            Tropical-Tang  hybrid     4.5   \n",
       "2321           Wonderwoman-Og  indica     4.0   \n",
       "\n",
       "                                          Effects                      Flavor  \\\n",
       "163      Relaxed,Euphoric,Uplifted,Creative,Happy     Tree,Fruit,Earthy,Sweet   \n",
       "368   Giggly,Relaxed,Talkative,Energetic,Euphoric          Berry,Sweet,Earthy   \n",
       "594     Happy,Uplifted,Talkative,Relaxed,Creative         Citrus,Pine,Pungent   \n",
       "679         Sleepy,Happy,Tingly,Uplifted,Euphoric                         NaN   \n",
       "736    Creative,Euphoric,Uplifted,Happy,Energetic           Woody,Pine,Earthy   \n",
       "817          Sleepy,Relaxed,Creative,Hungry,Happy          Earthy,Sweet,Skunk   \n",
       "856       Happy,Energetic,Uplifted,Relaxed,Giggly         Sweet,Pungent,Grape   \n",
       "899    Uplifted,Happy,Euphoric,Creative,Energetic                         NaN   \n",
       "949        Euphoric,Uplifted,Relaxed,Giggly,Happy            Sweet,Woody,Pine   \n",
       "955          Happy,Relaxed,Uplifted,Hungry,Giggly         Earthy,Chemical,Tar   \n",
       "970     Euphoric,Uplifted,Creative,Relaxed,Sleepy                         NaN   \n",
       "1012  Uplifted,Creative,Euphoric,Energetic,Hungry         Earthy,Sweet,Citrus   \n",
       "1101      Happy,Energetic,Giggly,Euphoric,Relaxed        Sweet,Citrus,Pungent   \n",
       "1199     Energetic,Euphoric,Sleepy,Uplifted,Happy                         NaN   \n",
       "1289    Happy,Uplifted,Euphoric,Energetic,Relaxed           Lime,Citrus,Sweet   \n",
       "1365          Euphoric,Tingly,Happy,Sleepy,Hungry                         NaN   \n",
       "1368     Happy,Creative,Uplifted,Hungry,Energetic        Berry,Citrus,Pungent   \n",
       "1476       Happy,Relaxed,Euphoric,Uplifted,Hungry        Skunk,Earthy,Pungent   \n",
       "1511  Energetic,Happy,Talkative,Uplifted,Euphoric     Tree,Fruit,Pungent,Pine   \n",
       "1513         Sleepy,Relaxed,Tingly,Happy,Euphoric        Pungent,Skunk,Earthy   \n",
       "1542       Happy,Giggly,Uplifted,Relaxed,Creative      Pineapple,Sweet,Cheese   \n",
       "1544   Uplifted,Happy,Talkative,Energetic,Focused      Diesel,Pungent,Tobacco   \n",
       "1633     Happy,Uplifted,Euphoric,Relaxed,Creative           Earthy,Pine,Sweet   \n",
       "1636      Energetic,Happy,Relaxed,Uplifted,Giggly  Citrus,Orange,Spicy/Herbal   \n",
       "1660       Happy,Tingly,Uplifted,Creative,Relaxed         Earthy,Pine,Flowery   \n",
       "1686         Relaxed,Sleepy,Giggly,Happy,Euphoric          Grape,Earthy,Woody   \n",
       "1726     Happy,Uplifted,Energetic,Euphoric,Sleepy  Blueberry,Nutty,Tree,Fruit   \n",
       "1801   Relaxed,Uplifted,Energetic,Giggly,Creative       Sweet,Vanilla,Pungent   \n",
       "1860       Euphoric,Happy,Relaxed,Creative,Giggly         Citrus,Sweet,Diesel   \n",
       "1993      Euphoric,Happy,Focused,Tingly,Energetic        Berry,Earthy,Pungent   \n",
       "2101           Hungry,Aroused,Sleepy,Giggly,Happy           Diesel,Skunk,Pine   \n",
       "2195      Happy,Focused,Relaxed,Euphoric,Creative        Citrus,Apricot,Skunk   \n",
       "2321        Relaxed,Tingly,Euphoric,Aroused,Happy      Flowery,Menthol,Citrus   \n",
       "\n",
       "     Description  \n",
       "163          NaN  \n",
       "368          NaN  \n",
       "594          NaN  \n",
       "679          NaN  \n",
       "736          NaN  \n",
       "817          NaN  \n",
       "856          NaN  \n",
       "899          NaN  \n",
       "949          NaN  \n",
       "955          NaN  \n",
       "970          NaN  \n",
       "1012         NaN  \n",
       "1101         NaN  \n",
       "1199         NaN  \n",
       "1289         NaN  \n",
       "1365         NaN  \n",
       "1368         NaN  \n",
       "1476         NaN  \n",
       "1511         NaN  \n",
       "1513         NaN  \n",
       "1542         NaN  \n",
       "1544         NaN  \n",
       "1633         NaN  \n",
       "1636         NaN  \n",
       "1660         NaN  \n",
       "1686         NaN  \n",
       "1726         NaN  \n",
       "1801         NaN  \n",
       "1860         NaN  \n",
       "1993         NaN  \n",
       "2101         NaN  \n",
       "2195         NaN  \n",
       "2321         NaN  "
      ]
     },
     "execution_count": 6,
     "metadata": {},
     "output_type": "execute_result"
    }
   ],
   "source": [
    "df[df['Description'].isnull()]"
   ]
  },
  {
   "cell_type": "code",
   "execution_count": 7,
   "metadata": {},
   "outputs": [],
   "source": [
    "df = df.replace('None', np.nan)"
   ]
  },
  {
   "cell_type": "code",
   "execution_count": 8,
   "metadata": {},
   "outputs": [],
   "source": [
    "df = df.dropna().reset_index()"
   ]
  },
  {
   "cell_type": "code",
   "execution_count": 9,
   "metadata": {},
   "outputs": [
    {
     "data": {
      "text/plain": [
       "2163"
      ]
     },
     "execution_count": 9,
     "metadata": {},
     "output_type": "execute_result"
    }
   ],
   "source": [
    "len(df['Description'])"
   ]
  },
  {
   "cell_type": "code",
   "execution_count": 10,
   "metadata": {},
   "outputs": [
    {
     "data": {
      "text/plain": [
       "(2163, 7)"
      ]
     },
     "execution_count": 10,
     "metadata": {},
     "output_type": "execute_result"
    }
   ],
   "source": [
    "df.shape"
   ]
  },
  {
   "cell_type": "code",
   "execution_count": 11,
   "metadata": {},
   "outputs": [
    {
     "data": {
      "text/plain": [
       "dtype('O')"
      ]
     },
     "execution_count": 11,
     "metadata": {},
     "output_type": "execute_result"
    }
   ],
   "source": [
    "df[\"Description\"].dtype"
   ]
  },
  {
   "cell_type": "code",
   "execution_count": 12,
   "metadata": {},
   "outputs": [],
   "source": [
    "#df['Description'] = df['Description'].apply(str).str.replace('.', ',')"
   ]
  },
  {
   "cell_type": "code",
   "execution_count": 13,
   "metadata": {},
   "outputs": [
    {
     "data": {
      "text/plain": [
       "'Creative,Energetic,Tingly,Euphoric,Relaxed'"
      ]
     },
     "execution_count": 13,
     "metadata": {},
     "output_type": "execute_result"
    }
   ],
   "source": [
    "df[\"Effects\"][0]"
   ]
  },
  {
   "cell_type": "code",
   "execution_count": 14,
   "metadata": {},
   "outputs": [
    {
     "name": "stdout",
     "output_type": "stream",
     "text": [
      "0    [Creative,Energetic,Tingly,Euphoric,Relaxed]\n",
      "1      [Relaxed,Aroused,Creative,Happy,Energetic]\n",
      "2     [Uplifted,Happy,Relaxed,Energetic,Creative]\n",
      "3       [Tingly,Creative,Hungry,Relaxed,Uplifted]\n",
      "4     [Happy,Relaxed,Euphoric,Uplifted,Talkative]\n",
      "Name: description_tokens, dtype: object\n"
     ]
    }
   ],
   "source": [
    "import spacy\n",
    "from spacy.tokenizer import Tokenizer\n",
    "from sklearn.neighbors import NearestNeighbors\n",
    "from sklearn.feature_extraction.text import TfidfVectorizer\n",
    "\n",
    "nlp = spacy.load(\"en_core_web_lg\")\n",
    "df.head()\n",
    "\n",
    "# The Tokenizer\n",
    "tokenizer = Tokenizer(nlp.vocab)\n",
    "\n",
    "# Make the tokens for description\n",
    "description_tokens = []\n",
    "for txt in tokenizer.pipe(df['Effects'], batch_size=500):\n",
    "    txt_tokens = [token.text for token in txt]\n",
    "    description_tokens.append(txt_tokens)\n",
    "df['description_tokens'] = description_tokens\n",
    "print(df['description_tokens'].head())\n",
    "\n"
   ]
  },
  {
   "cell_type": "code",
   "execution_count": 15,
   "metadata": {},
   "outputs": [
    {
     "data": {
      "text/html": [
       "<div>\n",
       "<style scoped>\n",
       "    .dataframe tbody tr th:only-of-type {\n",
       "        vertical-align: middle;\n",
       "    }\n",
       "\n",
       "    .dataframe tbody tr th {\n",
       "        vertical-align: top;\n",
       "    }\n",
       "\n",
       "    .dataframe thead th {\n",
       "        text-align: right;\n",
       "    }\n",
       "</style>\n",
       "<table border=\"1\" class=\"dataframe\">\n",
       "  <thead>\n",
       "    <tr style=\"text-align: right;\">\n",
       "      <th></th>\n",
       "      <th>index</th>\n",
       "      <th>Strain</th>\n",
       "      <th>Type</th>\n",
       "      <th>Rating</th>\n",
       "      <th>Effects</th>\n",
       "      <th>Flavor</th>\n",
       "      <th>Description</th>\n",
       "      <th>description_tokens</th>\n",
       "    </tr>\n",
       "  </thead>\n",
       "  <tbody>\n",
       "    <tr>\n",
       "      <th>0</th>\n",
       "      <td>0</td>\n",
       "      <td>100-Og</td>\n",
       "      <td>hybrid</td>\n",
       "      <td>4.0</td>\n",
       "      <td>Creative,Energetic,Tingly,Euphoric,Relaxed</td>\n",
       "      <td>Earthy,Sweet,Citrus</td>\n",
       "      <td>$100 OG is a 50/50 hybrid strain that packs a ...</td>\n",
       "      <td>[Creative,Energetic,Tingly,Euphoric,Relaxed]</td>\n",
       "    </tr>\n",
       "    <tr>\n",
       "      <th>1</th>\n",
       "      <td>1</td>\n",
       "      <td>98-White-Widow</td>\n",
       "      <td>hybrid</td>\n",
       "      <td>4.7</td>\n",
       "      <td>Relaxed,Aroused,Creative,Happy,Energetic</td>\n",
       "      <td>Flowery,Violet,Diesel</td>\n",
       "      <td>The ‘98 Aloha White Widow is an especially pot...</td>\n",
       "      <td>[Relaxed,Aroused,Creative,Happy,Energetic]</td>\n",
       "    </tr>\n",
       "    <tr>\n",
       "      <th>2</th>\n",
       "      <td>2</td>\n",
       "      <td>1024</td>\n",
       "      <td>sativa</td>\n",
       "      <td>4.4</td>\n",
       "      <td>Uplifted,Happy,Relaxed,Energetic,Creative</td>\n",
       "      <td>Spicy/Herbal,Sage,Woody</td>\n",
       "      <td>1024 is a sativa-dominant hybrid bred in Spain...</td>\n",
       "      <td>[Uplifted,Happy,Relaxed,Energetic,Creative]</td>\n",
       "    </tr>\n",
       "    <tr>\n",
       "      <th>3</th>\n",
       "      <td>3</td>\n",
       "      <td>13-Dawgs</td>\n",
       "      <td>hybrid</td>\n",
       "      <td>4.2</td>\n",
       "      <td>Tingly,Creative,Hungry,Relaxed,Uplifted</td>\n",
       "      <td>Apricot,Citrus,Grapefruit</td>\n",
       "      <td>13 Dawgs is a hybrid of G13 and Chemdawg genet...</td>\n",
       "      <td>[Tingly,Creative,Hungry,Relaxed,Uplifted]</td>\n",
       "    </tr>\n",
       "    <tr>\n",
       "      <th>4</th>\n",
       "      <td>4</td>\n",
       "      <td>24K-Gold</td>\n",
       "      <td>hybrid</td>\n",
       "      <td>4.6</td>\n",
       "      <td>Happy,Relaxed,Euphoric,Uplifted,Talkative</td>\n",
       "      <td>Citrus,Earthy,Orange</td>\n",
       "      <td>Also known as Kosher Tangie, 24k Gold is a 60%...</td>\n",
       "      <td>[Happy,Relaxed,Euphoric,Uplifted,Talkative]</td>\n",
       "    </tr>\n",
       "  </tbody>\n",
       "</table>\n",
       "</div>"
      ],
      "text/plain": [
       "   index          Strain    Type  Rating  \\\n",
       "0      0          100-Og  hybrid     4.0   \n",
       "1      1  98-White-Widow  hybrid     4.7   \n",
       "2      2            1024  sativa     4.4   \n",
       "3      3        13-Dawgs  hybrid     4.2   \n",
       "4      4        24K-Gold  hybrid     4.6   \n",
       "\n",
       "                                      Effects                     Flavor  \\\n",
       "0  Creative,Energetic,Tingly,Euphoric,Relaxed        Earthy,Sweet,Citrus   \n",
       "1    Relaxed,Aroused,Creative,Happy,Energetic      Flowery,Violet,Diesel   \n",
       "2   Uplifted,Happy,Relaxed,Energetic,Creative    Spicy/Herbal,Sage,Woody   \n",
       "3     Tingly,Creative,Hungry,Relaxed,Uplifted  Apricot,Citrus,Grapefruit   \n",
       "4   Happy,Relaxed,Euphoric,Uplifted,Talkative       Citrus,Earthy,Orange   \n",
       "\n",
       "                                         Description  \\\n",
       "0  $100 OG is a 50/50 hybrid strain that packs a ...   \n",
       "1  The ‘98 Aloha White Widow is an especially pot...   \n",
       "2  1024 is a sativa-dominant hybrid bred in Spain...   \n",
       "3  13 Dawgs is a hybrid of G13 and Chemdawg genet...   \n",
       "4  Also known as Kosher Tangie, 24k Gold is a 60%...   \n",
       "\n",
       "                             description_tokens  \n",
       "0  [Creative,Energetic,Tingly,Euphoric,Relaxed]  \n",
       "1    [Relaxed,Aroused,Creative,Happy,Energetic]  \n",
       "2   [Uplifted,Happy,Relaxed,Energetic,Creative]  \n",
       "3     [Tingly,Creative,Hungry,Relaxed,Uplifted]  \n",
       "4   [Happy,Relaxed,Euphoric,Uplifted,Talkative]  "
      ]
     },
     "execution_count": 15,
     "metadata": {},
     "output_type": "execute_result"
    }
   ],
   "source": [
    "df.head()"
   ]
  },
  {
   "cell_type": "code",
   "execution_count": 16,
   "metadata": {},
   "outputs": [],
   "source": [
    "def tokenize(document):\n",
    "    \n",
    "    doc = nlp(document)\n",
    "    \n",
    "    return [token.lemma_.strip() for token in doc if (token.is_stop != True) and (token.is_punct != True)]"
   ]
  },
  {
   "cell_type": "code",
   "execution_count": 17,
   "metadata": {},
   "outputs": [
    {
     "name": "stdout",
     "output_type": "stream",
     "text": [
      "(2163, 15)\n"
     ]
    },
    {
     "data": {
      "text/html": [
       "<div>\n",
       "<style scoped>\n",
       "    .dataframe tbody tr th:only-of-type {\n",
       "        vertical-align: middle;\n",
       "    }\n",
       "\n",
       "    .dataframe tbody tr th {\n",
       "        vertical-align: top;\n",
       "    }\n",
       "\n",
       "    .dataframe thead th {\n",
       "        text-align: right;\n",
       "    }\n",
       "</style>\n",
       "<table border=\"1\" class=\"dataframe\">\n",
       "  <thead>\n",
       "    <tr style=\"text-align: right;\">\n",
       "      <th></th>\n",
       "      <th>aroused</th>\n",
       "      <th>creative</th>\n",
       "      <th>dry</th>\n",
       "      <th>energetic</th>\n",
       "      <th>euphoric</th>\n",
       "      <th>focused</th>\n",
       "      <th>giggly</th>\n",
       "      <th>happy</th>\n",
       "      <th>hungry</th>\n",
       "      <th>mouth</th>\n",
       "      <th>relaxed</th>\n",
       "      <th>sleepy</th>\n",
       "      <th>talkative</th>\n",
       "      <th>tingly</th>\n",
       "      <th>uplifted</th>\n",
       "    </tr>\n",
       "  </thead>\n",
       "  <tbody>\n",
       "    <tr>\n",
       "      <th>0</th>\n",
       "      <td>0.000000</td>\n",
       "      <td>0.458104</td>\n",
       "      <td>0.0</td>\n",
       "      <td>0.492003</td>\n",
       "      <td>0.285453</td>\n",
       "      <td>0.0</td>\n",
       "      <td>0.0</td>\n",
       "      <td>0.000000</td>\n",
       "      <td>0.000000</td>\n",
       "      <td>0.0</td>\n",
       "      <td>0.272771</td>\n",
       "      <td>0.0</td>\n",
       "      <td>0.000000</td>\n",
       "      <td>0.626248</td>\n",
       "      <td>0.000000</td>\n",
       "    </tr>\n",
       "    <tr>\n",
       "      <th>1</th>\n",
       "      <td>0.694405</td>\n",
       "      <td>0.428473</td>\n",
       "      <td>0.0</td>\n",
       "      <td>0.460180</td>\n",
       "      <td>0.000000</td>\n",
       "      <td>0.0</td>\n",
       "      <td>0.0</td>\n",
       "      <td>0.239493</td>\n",
       "      <td>0.000000</td>\n",
       "      <td>0.0</td>\n",
       "      <td>0.255128</td>\n",
       "      <td>0.0</td>\n",
       "      <td>0.000000</td>\n",
       "      <td>0.000000</td>\n",
       "      <td>0.000000</td>\n",
       "    </tr>\n",
       "    <tr>\n",
       "      <th>2</th>\n",
       "      <td>0.000000</td>\n",
       "      <td>0.553938</td>\n",
       "      <td>0.0</td>\n",
       "      <td>0.594929</td>\n",
       "      <td>0.000000</td>\n",
       "      <td>0.0</td>\n",
       "      <td>0.0</td>\n",
       "      <td>0.309622</td>\n",
       "      <td>0.000000</td>\n",
       "      <td>0.0</td>\n",
       "      <td>0.329834</td>\n",
       "      <td>0.0</td>\n",
       "      <td>0.000000</td>\n",
       "      <td>0.000000</td>\n",
       "      <td>0.366819</td>\n",
       "    </tr>\n",
       "    <tr>\n",
       "      <th>3</th>\n",
       "      <td>0.000000</td>\n",
       "      <td>0.441144</td>\n",
       "      <td>0.0</td>\n",
       "      <td>0.000000</td>\n",
       "      <td>0.000000</td>\n",
       "      <td>0.0</td>\n",
       "      <td>0.0</td>\n",
       "      <td>0.000000</td>\n",
       "      <td>0.536072</td>\n",
       "      <td>0.0</td>\n",
       "      <td>0.262672</td>\n",
       "      <td>0.0</td>\n",
       "      <td>0.000000</td>\n",
       "      <td>0.603063</td>\n",
       "      <td>0.292126</td>\n",
       "    </tr>\n",
       "    <tr>\n",
       "      <th>4</th>\n",
       "      <td>0.000000</td>\n",
       "      <td>0.000000</td>\n",
       "      <td>0.0</td>\n",
       "      <td>0.000000</td>\n",
       "      <td>0.343135</td>\n",
       "      <td>0.0</td>\n",
       "      <td>0.0</td>\n",
       "      <td>0.307797</td>\n",
       "      <td>0.000000</td>\n",
       "      <td>0.0</td>\n",
       "      <td>0.327890</td>\n",
       "      <td>0.0</td>\n",
       "      <td>0.739617</td>\n",
       "      <td>0.000000</td>\n",
       "      <td>0.364657</td>\n",
       "    </tr>\n",
       "  </tbody>\n",
       "</table>\n",
       "</div>"
      ],
      "text/plain": [
       "    aroused  creative  dry  energetic  euphoric  focused  giggly     happy  \\\n",
       "0  0.000000  0.458104  0.0   0.492003  0.285453      0.0     0.0  0.000000   \n",
       "1  0.694405  0.428473  0.0   0.460180  0.000000      0.0     0.0  0.239493   \n",
       "2  0.000000  0.553938  0.0   0.594929  0.000000      0.0     0.0  0.309622   \n",
       "3  0.000000  0.441144  0.0   0.000000  0.000000      0.0     0.0  0.000000   \n",
       "4  0.000000  0.000000  0.0   0.000000  0.343135      0.0     0.0  0.307797   \n",
       "\n",
       "     hungry  mouth   relaxed  sleepy  talkative    tingly  uplifted  \n",
       "0  0.000000    0.0  0.272771     0.0   0.000000  0.626248  0.000000  \n",
       "1  0.000000    0.0  0.255128     0.0   0.000000  0.000000  0.000000  \n",
       "2  0.000000    0.0  0.329834     0.0   0.000000  0.000000  0.366819  \n",
       "3  0.536072    0.0  0.262672     0.0   0.000000  0.603063  0.292126  \n",
       "4  0.000000    0.0  0.327890     0.0   0.739617  0.000000  0.364657  "
      ]
     },
     "execution_count": 17,
     "metadata": {},
     "output_type": "execute_result"
    }
   ],
   "source": [
    "\n",
    "# Instantiate vectorizer object\n",
    "tfidf = TfidfVectorizer(stop_words = 'english',\n",
    "                       #ngram_range = (1,2),\n",
    "                       max_features = 5000)\n",
    "\n",
    "# Create a vocabulary and tf-idf score per document\n",
    "dtm = tfidf.fit_transform(df['Effects'])\n",
    "                         \n",
    "\n",
    "# Get feature names to use as dataframe column headers\n",
    "dtm = pd.DataFrame(dtm.todense(), columns=tfidf.get_feature_names())\n",
    "nn = NearestNeighbors(n_neighbors=4, algorithm='kd_tree')\n",
    "nn.fit(dtm)\n",
    "\n",
    "\n",
    "# View Feature Matrix as DataFrame\n",
    "print(dtm.shape)\n",
    "dtm.head()"
   ]
  },
  {
   "cell_type": "code",
   "execution_count": 18,
   "metadata": {},
   "outputs": [
    {
     "data": {
      "text/plain": [
       "Index(['aroused', 'creative', 'dry', 'energetic', 'euphoric', 'focused',\n",
       "       'giggly', 'happy', 'hungry', 'mouth', 'relaxed', 'sleepy', 'talkative',\n",
       "       'tingly', 'uplifted'],\n",
       "      dtype='object')"
      ]
     },
     "execution_count": 18,
     "metadata": {},
     "output_type": "execute_result"
    }
   ],
   "source": [
    "dtm.columns"
   ]
  },
  {
   "cell_type": "code",
   "execution_count": 19,
   "metadata": {},
   "outputs": [],
   "source": [
    "ideal = [\"\"\"\n",
    "Creative,Uplifted,Tingly,Euphoric,Relaxed, Giggly\n",
    "\"\"\"]"
   ]
  },
  {
   "cell_type": "code",
   "execution_count": 20,
   "metadata": {},
   "outputs": [
    {
     "data": {
      "text/plain": [
       "<1x15 sparse matrix of type '<class 'numpy.float64'>'\n",
       "\twith 6 stored elements in Compressed Sparse Row format>"
      ]
     },
     "execution_count": 20,
     "metadata": {},
     "output_type": "execute_result"
    }
   ],
   "source": [
    "# Query the ideal descprition\n",
    "new = tfidf.transform(ideal)\n",
    "new"
   ]
  },
  {
   "cell_type": "code",
   "execution_count": 21,
   "metadata": {},
   "outputs": [
    {
     "data": {
      "text/plain": [
       "(array([[0.43079886, 0.43079886, 0.53743649, 0.54335812]]),\n",
       " array([[1058,  853,   84,  129]]))"
      ]
     },
     "execution_count": 21,
     "metadata": {},
     "output_type": "execute_result"
    }
   ],
   "source": [
    "pred = nn.kneighbors(new.todense())\n",
    "pred"
   ]
  },
  {
   "cell_type": "code",
   "execution_count": 22,
   "metadata": {},
   "outputs": [
    {
     "data": {
      "text/plain": [
       "array([[1058,  853,   84,  129]])"
      ]
     },
     "execution_count": 22,
     "metadata": {},
     "output_type": "execute_result"
    }
   ],
   "source": [
    "recommended = pred[1]\n",
    "recommended"
   ]
  },
  {
   "cell_type": "code",
   "execution_count": 23,
   "metadata": {},
   "outputs": [
    {
     "data": {
      "text/plain": [
       "'Not much is known about the California-bred hybrid Jolly Rancher, but this hybrid strain has nevertheless carved a name for itself among West Coast genetics. Its name and initial appeal lies primarily in Jolly Rancher’s sour candied aroma, although there’s also something to be said about its high-flying euphoria and colorful buds. Coated with a sticky blanket of sugar-like resin, Jolly Rancher is a treat for all the senses.'"
      ]
     },
     "execution_count": 23,
     "metadata": {},
     "output_type": "execute_result"
    }
   ],
   "source": [
    "# most ideal description,strain and flavor\n",
    "df['Description'][1058]"
   ]
  },
  {
   "cell_type": "code",
   "execution_count": 24,
   "metadata": {},
   "outputs": [
    {
     "name": "stdout",
     "output_type": "stream",
     "text": [
      "Jolly-Rancher\n",
      "Euphoric,Happy,Giggly,Tingly,Creative\n",
      "Sweet,Pungent,Berry\n",
      "4.3\n"
     ]
    }
   ],
   "source": [
    "print(df['Strain'][1058])\n",
    "print(df['Effects'][1058])\n",
    "print(df['Flavor'][1058])\n",
    "print(df['Rating'][1058])"
   ]
  },
  {
   "cell_type": "code",
   "execution_count": 25,
   "metadata": {},
   "outputs": [],
   "source": [
    "#to be pickled....\n",
    "#nn, dtm, tfidf"
   ]
  },
  {
   "cell_type": "code",
   "execution_count": 26,
   "metadata": {},
   "outputs": [],
   "source": [
    "import pickle\n",
    "# Dump the trained classifier (nn)  with Pickle\n",
    "pickle_filename = 'model.pkl'\n",
    "pickled_model = open(pickle_filename, 'wb')  # Open the file to save as pkl file\n",
    "pickle.dump(nn, pickled_model)\n",
    "pickled_model.close() # Close the pickle instances\n"
   ]
  },
  {
   "cell_type": "code",
   "execution_count": 27,
   "metadata": {},
   "outputs": [
    {
     "name": "stdout",
     "output_type": "stream",
     "text": [
      "Loaded model ::  NearestNeighbors(algorithm='kd_tree', leaf_size=30, metric='minkowski',\n",
      "                 metric_params=None, n_jobs=None, n_neighbors=4, p=2,\n",
      "                 radius=1.0)\n"
     ]
    }
   ],
   "source": [
    "# Loading the saved model\n",
    "model_pkl = open(pickle_filename, 'rb')\n",
    "NN_model = pickle.load(model_pkl)\n",
    "print (\"Loaded model :: \", NN_model)  # print to verify"
   ]
  },
  {
   "cell_type": "code",
   "execution_count": 28,
   "metadata": {},
   "outputs": [],
   "source": [
    "# Dump the trained classifier (tfidf)  with Pickle\n",
    "pickle_filename_1 = 'tfidf.pkl'\n",
    "pickled_model_1 = open(pickle_filename_1, 'wb')  # Open the file to save as pkl file\n",
    "pickle.dump(tfidf, pickled_model_1)\n",
    "pickled_model_1.close() # Close the pickle instances"
   ]
  },
  {
   "cell_type": "code",
   "execution_count": 29,
   "metadata": {},
   "outputs": [
    {
     "name": "stdout",
     "output_type": "stream",
     "text": [
      "Loaded model ::  TfidfVectorizer(analyzer='word', binary=False, decode_error='strict',\n",
      "                dtype=<class 'numpy.float64'>, encoding='utf-8',\n",
      "                input='content', lowercase=True, max_df=1.0, max_features=5000,\n",
      "                min_df=1, ngram_range=(1, 1), norm='l2', preprocessor=None,\n",
      "                smooth_idf=True, stop_words='english', strip_accents=None,\n",
      "                sublinear_tf=False, token_pattern='(?u)\\\\b\\\\w\\\\w+\\\\b',\n",
      "                tokenizer=None, use_idf=True, vocabulary=None)\n"
     ]
    }
   ],
   "source": [
    "# Loading the saved model\n",
    "model_pkl_1 = open(pickle_filename_1, 'rb')\n",
    "tfidf_model = pickle.load(model_pkl_1)\n",
    "print (\"Loaded model :: \", tfidf_model)  # print to verify"
   ]
  },
  {
   "cell_type": "code",
   "execution_count": 30,
   "metadata": {},
   "outputs": [
    {
     "data": {
      "text/plain": [
       "['__abstractmethods__',\n",
       " '__class__',\n",
       " '__delattr__',\n",
       " '__dict__',\n",
       " '__dir__',\n",
       " '__doc__',\n",
       " '__eq__',\n",
       " '__format__',\n",
       " '__ge__',\n",
       " '__getattribute__',\n",
       " '__getstate__',\n",
       " '__gt__',\n",
       " '__hash__',\n",
       " '__init__',\n",
       " '__init_subclass__',\n",
       " '__le__',\n",
       " '__lt__',\n",
       " '__module__',\n",
       " '__ne__',\n",
       " '__new__',\n",
       " '__reduce__',\n",
       " '__reduce_ex__',\n",
       " '__repr__',\n",
       " '__setattr__',\n",
       " '__setstate__',\n",
       " '__sizeof__',\n",
       " '__str__',\n",
       " '__subclasshook__',\n",
       " '__weakref__',\n",
       " '_abc_impl',\n",
       " '_check_algorithm_metric',\n",
       " '_fit',\n",
       " '_fit_X',\n",
       " '_fit_method',\n",
       " '_get_param_names',\n",
       " '_get_tags',\n",
       " '_kneighbors_reduce_func',\n",
       " '_more_tags',\n",
       " '_pairwise',\n",
       " '_radius_neighbors_reduce_func',\n",
       " '_tree',\n",
       " 'algorithm',\n",
       " 'effective_metric_',\n",
       " 'effective_metric_params_',\n",
       " 'fit',\n",
       " 'get_params',\n",
       " 'kneighbors',\n",
       " 'kneighbors_graph',\n",
       " 'leaf_size',\n",
       " 'metric',\n",
       " 'metric_params',\n",
       " 'n_jobs',\n",
       " 'n_neighbors',\n",
       " 'p',\n",
       " 'radius',\n",
       " 'radius_neighbors',\n",
       " 'radius_neighbors_graph',\n",
       " 'set_params']"
      ]
     },
     "execution_count": 30,
     "metadata": {},
     "output_type": "execute_result"
    }
   ],
   "source": [
    "dir(NN_model)"
   ]
  },
  {
   "cell_type": "code",
   "execution_count": 31,
   "metadata": {},
   "outputs": [],
   "source": [
    "ideal2 = [\"happy,Sleepy,Apricot,Citrus,Grapefruit\"]"
   ]
  },
  {
   "cell_type": "code",
   "execution_count": 32,
   "metadata": {},
   "outputs": [],
   "source": [
    "new2 = tfidf_model.transform(ideal2)"
   ]
  },
  {
   "cell_type": "code",
   "execution_count": 33,
   "metadata": {},
   "outputs": [
    {
     "data": {
      "text/plain": [
       "(array([[0.47515218, 0.63432626, 0.63432626, 0.63432626]]),\n",
       " array([[ 684, 1831, 1118,  894]]))"
      ]
     },
     "execution_count": 33,
     "metadata": {},
     "output_type": "execute_result"
    }
   ],
   "source": [
    "pred1 = NN_model.kneighbors(new2.todense())\n",
    "pred1"
   ]
  },
  {
   "cell_type": "code",
   "execution_count": 34,
   "metadata": {},
   "outputs": [
    {
     "name": "stdout",
     "output_type": "stream",
     "text": [
      "Eastern-European\n",
      "Earthy,Woody,Pine\n",
      "Sleepy,Happy,Relaxed\n",
      "5.0\n"
     ]
    }
   ],
   "source": [
    "print(df['Strain'][684])\n",
    "print(df['Flavor'][684])\n",
    "print(df['Effects'][684])\n",
    "print(df['Rating'][684])"
   ]
  },
  {
   "cell_type": "code",
   "execution_count": 35,
   "metadata": {},
   "outputs": [
    {
     "data": {
      "text/plain": [
       "array([[ 684, 1831, 1118,  894]])"
      ]
     },
     "execution_count": 35,
     "metadata": {},
     "output_type": "execute_result"
    }
   ],
   "source": [
    "recommended1 = pred1[1]\n",
    "recommended1"
   ]
  },
  {
   "cell_type": "code",
   "execution_count": 36,
   "metadata": {},
   "outputs": [],
   "source": [
    "import json\n",
    "def recommend(user_input):\n",
    "    temp_df = NN_model.kneighbors(tfidf_model.transform([user_input]).todense())[1]\n",
    "    \n",
    "\n",
    "    #print(temp_df)\n",
    "    \n",
    "    for i in range(4):\n",
    "        info = df.iloc[temp_df[0][i]]['Strain']\n",
    "        info_effects = df.iloc[temp_df[0][i]]['Effects']\n",
    "        info_flavor = df.iloc[temp_df[0][i]]['Flavor']\n",
    "        info_description = df.iloc[temp_df[0][i]]['Description']\n",
    "        info_rating = df.iloc[temp_df[0][i]]['Rating']\n",
    "        \n",
    "        print(json.dumps(info))\n",
    "        print(json.dumps(info_effects))\n",
    "        print(json.dumps(info_flavor))\n",
    "        print(json.dumps(info_description))\n",
    "        print(json.dumps(info_rating))\n",
    "        \n",
    "        #return json.dumps(info) #for engineeers, the return does not work in jupyter lab.  Should work in vsCode. \n",
    "        #return json.dumps(info_effects)\n",
    "        #return json.dumps(info_flavor)\n",
    "        #return json.dumps(info_description)\n",
    "        #return json.dumps(info_rateing)"
   ]
  },
  {
   "cell_type": "code",
   "execution_count": 41,
   "metadata": {},
   "outputs": [
    {
     "data": {
      "text/plain": [
       "index                                                               723\n",
       "Strain                                                       Dutch-Haze\n",
       "Type                                                             sativa\n",
       "Rating                                                                4\n",
       "Effects                        Relaxed,Energetic,Creative,Happy,Aroused\n",
       "Flavor                                                    Citrus,Earthy\n",
       "Description           Dutch Haze by Dutch Passion is a 90% sativa-do...\n",
       "description_tokens           [Relaxed,Energetic,Creative,Happy,Aroused]\n",
       "Name: 668, dtype: object"
      ]
     },
     "execution_count": 41,
     "metadata": {},
     "output_type": "execute_result"
    }
   ],
   "source": [
    "df.iloc[668]"
   ]
  },
  {
   "cell_type": "code",
   "execution_count": 38,
   "metadata": {},
   "outputs": [
    {
     "data": {
      "text/plain": [
       "Index(['aroused', 'creative', 'dry', 'energetic', 'euphoric', 'focused',\n",
       "       'giggly', 'happy', 'hungry', 'mouth', 'relaxed', 'sleepy', 'talkative',\n",
       "       'tingly', 'uplifted'],\n",
       "      dtype='object')"
      ]
     },
     "execution_count": 38,
     "metadata": {},
     "output_type": "execute_result"
    }
   ],
   "source": [
    "dtm.columns"
   ]
  },
  {
   "cell_type": "code",
   "execution_count": 39,
   "metadata": {},
   "outputs": [
    {
     "name": "stdout",
     "output_type": "stream",
     "text": [
      "\"Club-69\"\n",
      "\"Sleepy,Relaxed\"\n",
      "\"Diesel,Flowery,Earthy\"\n",
      "\"Club 69 is a special strain crafted by Josh D of Karma Genetics for Arizona\\u2019s own, Sunday Goods. This Kushy cross of Karmarado OG and Biker Kush is a knockout for consumers looking for a heavy, restful indica-dominant strain. The terpene profile is a mixture of gas and pine, leaving the consumer with clean floral notes on the exhale. Enjoy this strain with care as the effects have been known to be powerfully sedative with continued consumption.\"\n",
      "5.0\n",
      "\"Dawgfather-Og\"\n",
      "\"Sleepy,Relaxed\"\n",
      "\"Spicy/Herbal,Pepper,Pungent\"\n",
      "\"Dawgfather OG, or simply \\u201cThe Dawgfather,\\u201d is an indica-dominant hybrid created by AlphaKronik Genes capable of massive plant production and a healthier-than-average yield. With potency floating above 20%, this strain contends well with chronic pain, insomnia, Crohn's, and anxiety. Expect traditional notes of gas/chemicals, Kush, and some funkiness. Dawgfather OG offers a strong buzz with nuance worth exploring.\\u00a0\\u00a0\"\n",
      "4.1\n",
      "\"Buddhas-Hand\"\n",
      "\"Focused,Euphoric,Energetic,Aroused,Uplifted\"\n",
      "\"Citrus,Lemon,Pungent\"\n",
      "\"Buddha\\u2019s Hand is a sativa-dominant strain that was bred by combining genetics from Lemon Thai and Snow Lotus. Pungent aromas of citrus and wildflowers burst from the dense, trichome-caked buds. Easing stress without the cost of energy, Buddha\\u2019s Hand is your perfect daytime companion when you\\u2019re in need of a mood boost or focus.\"\n",
      "4.7\n",
      "\"Dieseltonic\"\n",
      "\"Relaxed,Sleepy,Giggly,Focused,Uplifted\"\n",
      "\"Diesel,Earthy,Woody\"\n",
      "\"Bred by Resin Seeds in Spain, Dieseltonic is a high-CBD hybrid cross between NYC Diesel and Cannatonic. With an equal THC and CBD content, Dieseltonic is a therapeutic variety used to treat mood disorders, pain, inflammation, spasms, and many other symptoms. Dieseltonic is energizing and uplifting with a sweet orange aroma. Its resistance to mildew and fungus makes Dieseltonic a great choice for novice growers, who can expect an 8 to 9 week flowering time indoors or an October outdoor harvest.\"\n",
      "4.1\n"
     ]
    }
   ],
   "source": [
    "#Uplifted,Happy,Relaxed,Energetic,Creative = Keyerror: 1633\n",
    "#Relaxed,Aroused,Creative,Happy,Energeti = Keyerror: 668\n",
    "#Relaxed,Tingly,Euphoric,Aroused,Happy = Keyerror: 695\n",
    "\n",
    "recommend('hybrid-like in its balanced calm and moderate cerebral effects')"
   ]
  },
  {
   "cell_type": "code",
   "execution_count": null,
   "metadata": {},
   "outputs": [],
   "source": []
  },
  {
   "cell_type": "code",
   "execution_count": null,
   "metadata": {},
   "outputs": [],
   "source": []
  }
 ],
 "metadata": {
  "kernelspec": {
   "display_name": "U4-S1-NLP (Python3)",
   "language": "python",
   "name": "u4-s1-nlp"
  },
  "language_info": {
   "codemirror_mode": {
    "name": "ipython",
    "version": 3
   },
   "file_extension": ".py",
   "mimetype": "text/x-python",
   "name": "python",
   "nbconvert_exporter": "python",
   "pygments_lexer": "ipython3",
   "version": "3.7.0"
  }
 },
 "nbformat": 4,
 "nbformat_minor": 4
}
