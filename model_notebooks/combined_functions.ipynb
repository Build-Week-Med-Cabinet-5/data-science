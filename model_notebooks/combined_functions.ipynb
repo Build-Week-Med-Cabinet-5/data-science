{
 "cells": [
  {
   "cell_type": "code",
   "execution_count": 13,
   "metadata": {},
   "outputs": [],
   "source": [
    "import pandas as pd\n",
    "import re\n",
    "import string\n",
    "import matplotlib.pyplot as plt\n",
    "import numpy as np\n",
    "import spacy\n",
    "from sklearn.feature_extraction.text import CountVectorizer, TfidfVectorizer\n",
    "from sklearn.neighbors import NearestNeighbors"
   ]
  },
  {
   "cell_type": "code",
   "execution_count": 2,
   "metadata": {},
   "outputs": [],
   "source": [
    "df = pd.read_csv('data/cannabis.csv')"
   ]
  },
  {
   "cell_type": "code",
   "execution_count": 3,
   "metadata": {},
   "outputs": [],
   "source": [
    "df = df.replace('None', np.nan)\n",
    "df = df.dropna().reset_index()"
   ]
  },
  {
   "cell_type": "code",
   "execution_count": 4,
   "metadata": {},
   "outputs": [],
   "source": [
    "df['Flavor']= df['Flavor'].str.replace(',',' ')\n",
    "df['Effects'] = df['Effects'].str.replace(',', ' ')"
   ]
  },
  {
   "cell_type": "code",
   "execution_count": 5,
   "metadata": {},
   "outputs": [],
   "source": [
    "df['combined'] = df[\"Effects\"] +  df[\"Flavor\"] + df['Description']"
   ]
  },
  {
   "cell_type": "code",
   "execution_count": 15,
   "metadata": {},
   "outputs": [
    {
     "data": {
      "text/html": [
       "<div>\n",
       "<style scoped>\n",
       "    .dataframe tbody tr th:only-of-type {\n",
       "        vertical-align: middle;\n",
       "    }\n",
       "\n",
       "    .dataframe tbody tr th {\n",
       "        vertical-align: top;\n",
       "    }\n",
       "\n",
       "    .dataframe thead th {\n",
       "        text-align: right;\n",
       "    }\n",
       "</style>\n",
       "<table border=\"1\" class=\"dataframe\">\n",
       "  <thead>\n",
       "    <tr style=\"text-align: right;\">\n",
       "      <th></th>\n",
       "      <th>index</th>\n",
       "      <th>Strain</th>\n",
       "      <th>Type</th>\n",
       "      <th>Rating</th>\n",
       "      <th>Effects</th>\n",
       "      <th>Flavor</th>\n",
       "      <th>Description</th>\n",
       "      <th>combined</th>\n",
       "    </tr>\n",
       "  </thead>\n",
       "  <tbody>\n",
       "    <tr>\n",
       "      <th>0</th>\n",
       "      <td>0</td>\n",
       "      <td>100-Og</td>\n",
       "      <td>hybrid</td>\n",
       "      <td>4.0</td>\n",
       "      <td>Creative Energetic Tingly Euphoric Relaxed</td>\n",
       "      <td>Earthy Sweet Citrus</td>\n",
       "      <td>$100 OG is a 50/50 hybrid strain that packs a ...</td>\n",
       "      <td>Creative Energetic Tingly Euphoric RelaxedEart...</td>\n",
       "    </tr>\n",
       "    <tr>\n",
       "      <th>1</th>\n",
       "      <td>1</td>\n",
       "      <td>98-White-Widow</td>\n",
       "      <td>hybrid</td>\n",
       "      <td>4.7</td>\n",
       "      <td>Relaxed Aroused Creative Happy Energetic</td>\n",
       "      <td>Flowery Violet Diesel</td>\n",
       "      <td>The ‘98 Aloha White Widow is an especially pot...</td>\n",
       "      <td>Relaxed Aroused Creative Happy EnergeticFlower...</td>\n",
       "    </tr>\n",
       "    <tr>\n",
       "      <th>2</th>\n",
       "      <td>2</td>\n",
       "      <td>1024</td>\n",
       "      <td>sativa</td>\n",
       "      <td>4.4</td>\n",
       "      <td>Uplifted Happy Relaxed Energetic Creative</td>\n",
       "      <td>Spicy/Herbal Sage Woody</td>\n",
       "      <td>1024 is a sativa-dominant hybrid bred in Spain...</td>\n",
       "      <td>Uplifted Happy Relaxed Energetic CreativeSpicy...</td>\n",
       "    </tr>\n",
       "    <tr>\n",
       "      <th>3</th>\n",
       "      <td>3</td>\n",
       "      <td>13-Dawgs</td>\n",
       "      <td>hybrid</td>\n",
       "      <td>4.2</td>\n",
       "      <td>Tingly Creative Hungry Relaxed Uplifted</td>\n",
       "      <td>Apricot Citrus Grapefruit</td>\n",
       "      <td>13 Dawgs is a hybrid of G13 and Chemdawg genet...</td>\n",
       "      <td>Tingly Creative Hungry Relaxed UpliftedApricot...</td>\n",
       "    </tr>\n",
       "    <tr>\n",
       "      <th>4</th>\n",
       "      <td>4</td>\n",
       "      <td>24K-Gold</td>\n",
       "      <td>hybrid</td>\n",
       "      <td>4.6</td>\n",
       "      <td>Happy Relaxed Euphoric Uplifted Talkative</td>\n",
       "      <td>Citrus Earthy Orange</td>\n",
       "      <td>Also known as Kosher Tangie, 24k Gold is a 60%...</td>\n",
       "      <td>Happy Relaxed Euphoric Uplifted TalkativeCitru...</td>\n",
       "    </tr>\n",
       "  </tbody>\n",
       "</table>\n",
       "</div>"
      ],
      "text/plain": [
       "   index          Strain    Type  Rating  \\\n",
       "0      0          100-Og  hybrid     4.0   \n",
       "1      1  98-White-Widow  hybrid     4.7   \n",
       "2      2            1024  sativa     4.4   \n",
       "3      3        13-Dawgs  hybrid     4.2   \n",
       "4      4        24K-Gold  hybrid     4.6   \n",
       "\n",
       "                                      Effects                     Flavor  \\\n",
       "0  Creative Energetic Tingly Euphoric Relaxed        Earthy Sweet Citrus   \n",
       "1    Relaxed Aroused Creative Happy Energetic      Flowery Violet Diesel   \n",
       "2   Uplifted Happy Relaxed Energetic Creative    Spicy/Herbal Sage Woody   \n",
       "3     Tingly Creative Hungry Relaxed Uplifted  Apricot Citrus Grapefruit   \n",
       "4   Happy Relaxed Euphoric Uplifted Talkative       Citrus Earthy Orange   \n",
       "\n",
       "                                         Description  \\\n",
       "0  $100 OG is a 50/50 hybrid strain that packs a ...   \n",
       "1  The ‘98 Aloha White Widow is an especially pot...   \n",
       "2  1024 is a sativa-dominant hybrid bred in Spain...   \n",
       "3  13 Dawgs is a hybrid of G13 and Chemdawg genet...   \n",
       "4  Also known as Kosher Tangie, 24k Gold is a 60%...   \n",
       "\n",
       "                                            combined  \n",
       "0  Creative Energetic Tingly Euphoric RelaxedEart...  \n",
       "1  Relaxed Aroused Creative Happy EnergeticFlower...  \n",
       "2  Uplifted Happy Relaxed Energetic CreativeSpicy...  \n",
       "3  Tingly Creative Hungry Relaxed UpliftedApricot...  \n",
       "4  Happy Relaxed Euphoric Uplifted TalkativeCitru...  "
      ]
     },
     "execution_count": 15,
     "metadata": {},
     "output_type": "execute_result"
    }
   ],
   "source": [
    "df.head()"
   ]
  },
  {
   "cell_type": "code",
   "execution_count": 6,
   "metadata": {},
   "outputs": [
    {
     "data": {
      "text/plain": [
       "NearestNeighbors(algorithm='kd_tree', leaf_size=30, metric='minkowski',\n",
       "                 metric_params=None, n_jobs=None, n_neighbors=4, p=2,\n",
       "                 radius=1.0)"
      ]
     },
     "execution_count": 6,
     "metadata": {},
     "output_type": "execute_result"
    }
   ],
   "source": [
    "tfidf = TfidfVectorizer(stop_words = 'english',ngram_range = (1,2),max_features = 2000)\n",
    "dtm = tfidf.fit_transform(df['combined'])\n",
    "dtm = pd.DataFrame(dtm.todense(), columns=tfidf.get_feature_names())\n",
    "nn = NearestNeighbors(n_neighbors=4, algorithm='kd_tree')\n",
    "nn.fit(dtm)"
   ]
  },
  {
   "cell_type": "code",
   "execution_count": 7,
   "metadata": {},
   "outputs": [],
   "source": [
    "import pickle\n",
    "# Dump the trained classifier (nn)  with Pickle\n",
    "pickle_filename = 'model.pkl2'\n",
    "pickled_model = open(pickle_filename, 'wb')  # Open the file to save as pkl file\n",
    "pickle.dump(nn, pickled_model)\n",
    "pickled_model.close() # Close the pickle instances"
   ]
  },
  {
   "cell_type": "code",
   "execution_count": 8,
   "metadata": {},
   "outputs": [
    {
     "name": "stdout",
     "output_type": "stream",
     "text": [
      "Loaded model ::  NearestNeighbors(algorithm='kd_tree', leaf_size=30, metric='minkowski',\n",
      "                 metric_params=None, n_jobs=None, n_neighbors=4, p=2,\n",
      "                 radius=1.0)\n"
     ]
    }
   ],
   "source": [
    "# Loading the saved model\n",
    "model_pkl2 = open(pickle_filename, 'rb')\n",
    "NN_model2 = pickle.load(model_pkl2)\n",
    "print (\"Loaded model :: \", NN_model2)  # print to verify"
   ]
  },
  {
   "cell_type": "code",
   "execution_count": 9,
   "metadata": {},
   "outputs": [],
   "source": [
    "# Dump the trained classifier (tfidf)  with Pickle\n",
    "pickle_filename_1 = 'tfidf.pkl2'\n",
    "pickled_model_1 = open(pickle_filename_1, 'wb')  # Open the file to save as pkl file\n",
    "pickle.dump(tfidf, pickled_model_1)\n",
    "pickled_model_1.close() # Close the pickle instances"
   ]
  },
  {
   "cell_type": "code",
   "execution_count": 10,
   "metadata": {},
   "outputs": [
    {
     "name": "stdout",
     "output_type": "stream",
     "text": [
      "Loaded model ::  TfidfVectorizer(analyzer='word', binary=False, decode_error='strict',\n",
      "                dtype=<class 'numpy.float64'>, encoding='utf-8',\n",
      "                input='content', lowercase=True, max_df=1.0, max_features=2000,\n",
      "                min_df=1, ngram_range=(1, 2), norm='l2', preprocessor=None,\n",
      "                smooth_idf=True, stop_words='english', strip_accents=None,\n",
      "                sublinear_tf=False, token_pattern='(?u)\\\\b\\\\w\\\\w+\\\\b',\n",
      "                tokenizer=None, use_idf=True, vocabulary=None)\n"
     ]
    }
   ],
   "source": [
    "# Loading the saved model\n",
    "model_pkl_1 = open(pickle_filename_1, 'rb')\n",
    "tfidf_model2 = pickle.load(model_pkl_1)\n",
    "print (\"Loaded model :: \", tfidf_model2)  # print to verify"
   ]
  },
  {
   "cell_type": "code",
   "execution_count": 16,
   "metadata": {},
   "outputs": [],
   "source": [
    "import json\n",
    "def recommend(user_input):\n",
    "    temp_df = NN_model2.kneighbors(tfidf_model2.transform([user_input]).todense())[1]\n",
    "    \n",
    "\n",
    "    #print(temp_df)\n",
    "    \n",
    "    for i in range(4):\n",
    "        info = df.iloc[temp_df[0][i]]['Strain']\n",
    "        info_effects = df.iloc[temp_df[0][i]]['Effects']\n",
    "        info_flavor = df.iloc[temp_df[0][i]]['Flavor']\n",
    "        info_description = df.iloc[temp_df[0][i]]['Description']\n",
    "        info_rating = df.iloc[temp_df[0][i]]['Rating']\n",
    "        \n",
    "        print(json.dumps(info))\n",
    "        print(json.dumps(info_effects))\n",
    "        print(json.dumps(info_flavor))\n",
    "        print(json.dumps(info_description))\n",
    "        print(json.dumps(info_rating))\n",
    "        \n",
    "        #return json.dumps(info)  #for engineeers, the return does not work in jupyter lab.  Should work in vsCode.\n",
    "        #return json.dumps(info_effects)\n",
    "        #return json.dumps(info_flavor)\n",
    "        #return json.dump(info_description)\n",
    "        #return json.dumps(info_rating)"
   ]
  },
  {
   "cell_type": "code",
   "execution_count": 17,
   "metadata": {},
   "outputs": [
    {
     "name": "stdout",
     "output_type": "stream",
     "text": [
      "\"Alpine-Star\"\n",
      "\"Relaxed Uplifted Happy Euphoric Tingly\"\n",
      "\"Pine Citrus Earthy\"\n",
      "\"Alpine Star, often labeled as Alpine OG, is an earthy, citrus mix of Tahoe OG and Sensi Star genetics. Zesty lemon flavors lead Alpine Star\\u2019s wave of relaxing indica effects. The pain relieving properties of Alpine Star radiate from the head and neck, calming anxieties and muscle tension as the effects descend to the lower extremities.\"\n",
      "4.2\n",
      "\"Saturn-Og\"\n",
      "\"Happy Relaxed Euphoric Uplifted Sleepy\"\n",
      "\"Earthy Sweet Tree Fruit\"\n",
      "\"Saturn OG is a hybrid strain with mysterious beginnings, but its earthy citrus and diesel flavors confirms its close relationship to OG Kush. Its undocumented origins result in this strain being labeled as indica, sativa, and everything in between, but its effects are most commonly described as hybrid-like in its balanced calm and moderate cerebral effects. Saturn OG\\u2019s forest green buds are lit by a constellation of crystal trichomes, and this OG Kush relative is often lumped into a \\u201cplanetary strain\\u201d series that includes Earth OG and Jupiter OG. The psychoactive onset of Saturn OG begins with an intense burst of euphoria that fades to smooth relaxation perfect for relieving stress and muscle tension.\\u00a0\"\n",
      "4.5\n",
      "\"Rocklock\"\n",
      "\"Relaxed Happy Euphoric Focused Energetic\"\n",
      "\"Earthy Sweet Pungent\"\n",
      "\"Rocklock is a cross between the two strains Rockstar and Warlock. The smell of this herb is sweet and fruity. The stone is surprisingly stimulating given that it is primary an indica strain; which has some rather nice advantages when going out to a concert for example. Rocklock tastes hash-like and burns fast and evenly. On the medicinal side, this strain can offer relief from muscle tension and mild to medium aches and pains.\"\n",
      "4.6\n",
      "\"Omega\"\n",
      "\"Euphoric Happy Tingly Relaxed Uplifted\"\n",
      "\"Menthol Spicy/Herbal Sweet\"\n",
      "\"Bred over generations from White Widow, Kush, NYC Diesel, and Permafrost genetics, Omega by Rogue Buds is a hybrid strain that lets the mind soar while relaxing the body. This high-THC strain carries a pungent and complex aroma comprised of earthy pine, sweet citrus, and spicy menthol notes. Omega eases muscle tension\\u00a0and frees the headspace of excessive stress, making this strain a perfect partner for winding down after a long day.\"\n",
      "4.8\n"
     ]
    }
   ],
   "source": [
    "recommend('relieving stress and muscle tension')"
   ]
  },
  {
   "cell_type": "code",
   "execution_count": null,
   "metadata": {},
   "outputs": [],
   "source": []
  }
 ],
 "metadata": {
  "kernelspec": {
   "display_name": "U4-S1-NLP (Python3)",
   "language": "python",
   "name": "u4-s1-nlp"
  },
  "language_info": {
   "codemirror_mode": {
    "name": "ipython",
    "version": 3
   },
   "file_extension": ".py",
   "mimetype": "text/x-python",
   "name": "python",
   "nbconvert_exporter": "python",
   "pygments_lexer": "ipython3",
   "version": "3.7.0"
  }
 },
 "nbformat": 4,
 "nbformat_minor": 4
}
