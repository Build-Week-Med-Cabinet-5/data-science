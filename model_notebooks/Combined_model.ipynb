{
 "cells": [
  {
   "cell_type": "code",
   "execution_count": 30,
   "metadata": {},
   "outputs": [],
   "source": [
    "import pandas as pd\n",
    "import re\n",
    "import string\n",
    "import matplotlib.pyplot as plt\n",
    "import numpy as np\n",
    "import spacy\n",
    "from sklearn.feature_extraction.text import CountVectorizer, TfidfVectorizer\n"
   ]
  },
  {
   "cell_type": "code",
   "execution_count": 2,
   "metadata": {},
   "outputs": [
    {
     "data": {
      "text/html": [
       "<div>\n",
       "<style scoped>\n",
       "    .dataframe tbody tr th:only-of-type {\n",
       "        vertical-align: middle;\n",
       "    }\n",
       "\n",
       "    .dataframe tbody tr th {\n",
       "        vertical-align: top;\n",
       "    }\n",
       "\n",
       "    .dataframe thead th {\n",
       "        text-align: right;\n",
       "    }\n",
       "</style>\n",
       "<table border=\"1\" class=\"dataframe\">\n",
       "  <thead>\n",
       "    <tr style=\"text-align: right;\">\n",
       "      <th></th>\n",
       "      <th>Strain</th>\n",
       "      <th>Type</th>\n",
       "      <th>Rating</th>\n",
       "      <th>Effects</th>\n",
       "      <th>Flavor</th>\n",
       "      <th>Description</th>\n",
       "    </tr>\n",
       "  </thead>\n",
       "  <tbody>\n",
       "    <tr>\n",
       "      <th>0</th>\n",
       "      <td>100-Og</td>\n",
       "      <td>hybrid</td>\n",
       "      <td>4.0</td>\n",
       "      <td>Creative,Energetic,Tingly,Euphoric,Relaxed</td>\n",
       "      <td>Earthy,Sweet,Citrus</td>\n",
       "      <td>$100 OG is a 50/50 hybrid strain that packs a ...</td>\n",
       "    </tr>\n",
       "    <tr>\n",
       "      <th>1</th>\n",
       "      <td>98-White-Widow</td>\n",
       "      <td>hybrid</td>\n",
       "      <td>4.7</td>\n",
       "      <td>Relaxed,Aroused,Creative,Happy,Energetic</td>\n",
       "      <td>Flowery,Violet,Diesel</td>\n",
       "      <td>The ‘98 Aloha White Widow is an especially pot...</td>\n",
       "    </tr>\n",
       "    <tr>\n",
       "      <th>2</th>\n",
       "      <td>1024</td>\n",
       "      <td>sativa</td>\n",
       "      <td>4.4</td>\n",
       "      <td>Uplifted,Happy,Relaxed,Energetic,Creative</td>\n",
       "      <td>Spicy/Herbal,Sage,Woody</td>\n",
       "      <td>1024 is a sativa-dominant hybrid bred in Spain...</td>\n",
       "    </tr>\n",
       "    <tr>\n",
       "      <th>3</th>\n",
       "      <td>13-Dawgs</td>\n",
       "      <td>hybrid</td>\n",
       "      <td>4.2</td>\n",
       "      <td>Tingly,Creative,Hungry,Relaxed,Uplifted</td>\n",
       "      <td>Apricot,Citrus,Grapefruit</td>\n",
       "      <td>13 Dawgs is a hybrid of G13 and Chemdawg genet...</td>\n",
       "    </tr>\n",
       "    <tr>\n",
       "      <th>4</th>\n",
       "      <td>24K-Gold</td>\n",
       "      <td>hybrid</td>\n",
       "      <td>4.6</td>\n",
       "      <td>Happy,Relaxed,Euphoric,Uplifted,Talkative</td>\n",
       "      <td>Citrus,Earthy,Orange</td>\n",
       "      <td>Also known as Kosher Tangie, 24k Gold is a 60%...</td>\n",
       "    </tr>\n",
       "  </tbody>\n",
       "</table>\n",
       "</div>"
      ],
      "text/plain": [
       "           Strain    Type  Rating                                     Effects  \\\n",
       "0          100-Og  hybrid     4.0  Creative,Energetic,Tingly,Euphoric,Relaxed   \n",
       "1  98-White-Widow  hybrid     4.7    Relaxed,Aroused,Creative,Happy,Energetic   \n",
       "2            1024  sativa     4.4   Uplifted,Happy,Relaxed,Energetic,Creative   \n",
       "3        13-Dawgs  hybrid     4.2     Tingly,Creative,Hungry,Relaxed,Uplifted   \n",
       "4        24K-Gold  hybrid     4.6   Happy,Relaxed,Euphoric,Uplifted,Talkative   \n",
       "\n",
       "                      Flavor  \\\n",
       "0        Earthy,Sweet,Citrus   \n",
       "1      Flowery,Violet,Diesel   \n",
       "2    Spicy/Herbal,Sage,Woody   \n",
       "3  Apricot,Citrus,Grapefruit   \n",
       "4       Citrus,Earthy,Orange   \n",
       "\n",
       "                                         Description  \n",
       "0  $100 OG is a 50/50 hybrid strain that packs a ...  \n",
       "1  The ‘98 Aloha White Widow is an especially pot...  \n",
       "2  1024 is a sativa-dominant hybrid bred in Spain...  \n",
       "3  13 Dawgs is a hybrid of G13 and Chemdawg genet...  \n",
       "4  Also known as Kosher Tangie, 24k Gold is a 60%...  "
      ]
     },
     "execution_count": 2,
     "metadata": {},
     "output_type": "execute_result"
    }
   ],
   "source": [
    "df = pd.read_csv('data/cannabis.csv')\n",
    "df.head()"
   ]
  },
  {
   "cell_type": "code",
   "execution_count": 3,
   "metadata": {},
   "outputs": [],
   "source": [
    "df = df.replace('None', np.nan)\n",
    "df = df.dropna().reset_index()"
   ]
  },
  {
   "cell_type": "code",
   "execution_count": 4,
   "metadata": {},
   "outputs": [],
   "source": [
    "df['Flavor']= df['Flavor'].str.replace(',',' ')\n",
    "df['Effects'] = df['Effects'].str.replace(',', ' ')"
   ]
  },
  {
   "cell_type": "code",
   "execution_count": 5,
   "metadata": {},
   "outputs": [
    {
     "name": "stdout",
     "output_type": "stream",
     "text": [
      "(2163, 7)\n"
     ]
    },
    {
     "data": {
      "text/html": [
       "<div>\n",
       "<style scoped>\n",
       "    .dataframe tbody tr th:only-of-type {\n",
       "        vertical-align: middle;\n",
       "    }\n",
       "\n",
       "    .dataframe tbody tr th {\n",
       "        vertical-align: top;\n",
       "    }\n",
       "\n",
       "    .dataframe thead th {\n",
       "        text-align: right;\n",
       "    }\n",
       "</style>\n",
       "<table border=\"1\" class=\"dataframe\">\n",
       "  <thead>\n",
       "    <tr style=\"text-align: right;\">\n",
       "      <th></th>\n",
       "      <th>index</th>\n",
       "      <th>Strain</th>\n",
       "      <th>Type</th>\n",
       "      <th>Rating</th>\n",
       "      <th>Effects</th>\n",
       "      <th>Flavor</th>\n",
       "      <th>Description</th>\n",
       "    </tr>\n",
       "  </thead>\n",
       "  <tbody>\n",
       "    <tr>\n",
       "      <th>0</th>\n",
       "      <td>0</td>\n",
       "      <td>100-Og</td>\n",
       "      <td>hybrid</td>\n",
       "      <td>4.0</td>\n",
       "      <td>Creative Energetic Tingly Euphoric Relaxed</td>\n",
       "      <td>Earthy Sweet Citrus</td>\n",
       "      <td>$100 OG is a 50/50 hybrid strain that packs a ...</td>\n",
       "    </tr>\n",
       "    <tr>\n",
       "      <th>1</th>\n",
       "      <td>1</td>\n",
       "      <td>98-White-Widow</td>\n",
       "      <td>hybrid</td>\n",
       "      <td>4.7</td>\n",
       "      <td>Relaxed Aroused Creative Happy Energetic</td>\n",
       "      <td>Flowery Violet Diesel</td>\n",
       "      <td>The ‘98 Aloha White Widow is an especially pot...</td>\n",
       "    </tr>\n",
       "    <tr>\n",
       "      <th>2</th>\n",
       "      <td>2</td>\n",
       "      <td>1024</td>\n",
       "      <td>sativa</td>\n",
       "      <td>4.4</td>\n",
       "      <td>Uplifted Happy Relaxed Energetic Creative</td>\n",
       "      <td>Spicy/Herbal Sage Woody</td>\n",
       "      <td>1024 is a sativa-dominant hybrid bred in Spain...</td>\n",
       "    </tr>\n",
       "    <tr>\n",
       "      <th>3</th>\n",
       "      <td>3</td>\n",
       "      <td>13-Dawgs</td>\n",
       "      <td>hybrid</td>\n",
       "      <td>4.2</td>\n",
       "      <td>Tingly Creative Hungry Relaxed Uplifted</td>\n",
       "      <td>Apricot Citrus Grapefruit</td>\n",
       "      <td>13 Dawgs is a hybrid of G13 and Chemdawg genet...</td>\n",
       "    </tr>\n",
       "    <tr>\n",
       "      <th>4</th>\n",
       "      <td>4</td>\n",
       "      <td>24K-Gold</td>\n",
       "      <td>hybrid</td>\n",
       "      <td>4.6</td>\n",
       "      <td>Happy Relaxed Euphoric Uplifted Talkative</td>\n",
       "      <td>Citrus Earthy Orange</td>\n",
       "      <td>Also known as Kosher Tangie, 24k Gold is a 60%...</td>\n",
       "    </tr>\n",
       "    <tr>\n",
       "      <th>...</th>\n",
       "      <td>...</td>\n",
       "      <td>...</td>\n",
       "      <td>...</td>\n",
       "      <td>...</td>\n",
       "      <td>...</td>\n",
       "      <td>...</td>\n",
       "      <td>...</td>\n",
       "    </tr>\n",
       "    <tr>\n",
       "      <th>2158</th>\n",
       "      <td>2346</td>\n",
       "      <td>Zeus-Og</td>\n",
       "      <td>hybrid</td>\n",
       "      <td>4.7</td>\n",
       "      <td>Happy Uplifted Relaxed Euphoric Energetic</td>\n",
       "      <td>Earthy Woody Pine</td>\n",
       "      <td>Zeus OG is a hybrid cross between Pineapple OG...</td>\n",
       "    </tr>\n",
       "    <tr>\n",
       "      <th>2159</th>\n",
       "      <td>2347</td>\n",
       "      <td>Zkittlez</td>\n",
       "      <td>indica</td>\n",
       "      <td>4.6</td>\n",
       "      <td>Relaxed Happy Euphoric Uplifted Sleepy</td>\n",
       "      <td>Sweet Berry Grape</td>\n",
       "      <td>Zkittlez is an indica-dominant mix of Grape Ap...</td>\n",
       "    </tr>\n",
       "    <tr>\n",
       "      <th>2160</th>\n",
       "      <td>2348</td>\n",
       "      <td>Zombie-Kush</td>\n",
       "      <td>indica</td>\n",
       "      <td>5.0</td>\n",
       "      <td>Relaxed Sleepy Talkative Euphoric Happy</td>\n",
       "      <td>Earthy Sweet Spicy/Herbal</td>\n",
       "      <td>Zombie Kush by Ripper Seeds comes from two dif...</td>\n",
       "    </tr>\n",
       "    <tr>\n",
       "      <th>2161</th>\n",
       "      <td>2349</td>\n",
       "      <td>Zombie-Og</td>\n",
       "      <td>indica</td>\n",
       "      <td>4.4</td>\n",
       "      <td>Relaxed Sleepy Euphoric Happy Hungry</td>\n",
       "      <td>Sweet Earthy Pungent</td>\n",
       "      <td>If you’re looking to transform into a flesh-ea...</td>\n",
       "    </tr>\n",
       "    <tr>\n",
       "      <th>2162</th>\n",
       "      <td>2350</td>\n",
       "      <td>Zoom-Pie</td>\n",
       "      <td>indica</td>\n",
       "      <td>4.6</td>\n",
       "      <td>Hungry Relaxed Uplifted Happy Sleepy</td>\n",
       "      <td>Berry Earthy Pungent</td>\n",
       "      <td>Zoom Pie (also known as Zombie Pie) is a heavy...</td>\n",
       "    </tr>\n",
       "  </tbody>\n",
       "</table>\n",
       "<p>2163 rows × 7 columns</p>\n",
       "</div>"
      ],
      "text/plain": [
       "      index          Strain    Type  Rating  \\\n",
       "0         0          100-Og  hybrid     4.0   \n",
       "1         1  98-White-Widow  hybrid     4.7   \n",
       "2         2            1024  sativa     4.4   \n",
       "3         3        13-Dawgs  hybrid     4.2   \n",
       "4         4        24K-Gold  hybrid     4.6   \n",
       "...     ...             ...     ...     ...   \n",
       "2158   2346         Zeus-Og  hybrid     4.7   \n",
       "2159   2347        Zkittlez  indica     4.6   \n",
       "2160   2348     Zombie-Kush  indica     5.0   \n",
       "2161   2349       Zombie-Og  indica     4.4   \n",
       "2162   2350        Zoom-Pie  indica     4.6   \n",
       "\n",
       "                                         Effects                     Flavor  \\\n",
       "0     Creative Energetic Tingly Euphoric Relaxed        Earthy Sweet Citrus   \n",
       "1       Relaxed Aroused Creative Happy Energetic      Flowery Violet Diesel   \n",
       "2      Uplifted Happy Relaxed Energetic Creative    Spicy/Herbal Sage Woody   \n",
       "3        Tingly Creative Hungry Relaxed Uplifted  Apricot Citrus Grapefruit   \n",
       "4      Happy Relaxed Euphoric Uplifted Talkative       Citrus Earthy Orange   \n",
       "...                                          ...                        ...   \n",
       "2158   Happy Uplifted Relaxed Euphoric Energetic          Earthy Woody Pine   \n",
       "2159      Relaxed Happy Euphoric Uplifted Sleepy          Sweet Berry Grape   \n",
       "2160     Relaxed Sleepy Talkative Euphoric Happy  Earthy Sweet Spicy/Herbal   \n",
       "2161        Relaxed Sleepy Euphoric Happy Hungry       Sweet Earthy Pungent   \n",
       "2162        Hungry Relaxed Uplifted Happy Sleepy       Berry Earthy Pungent   \n",
       "\n",
       "                                            Description  \n",
       "0     $100 OG is a 50/50 hybrid strain that packs a ...  \n",
       "1     The ‘98 Aloha White Widow is an especially pot...  \n",
       "2     1024 is a sativa-dominant hybrid bred in Spain...  \n",
       "3     13 Dawgs is a hybrid of G13 and Chemdawg genet...  \n",
       "4     Also known as Kosher Tangie, 24k Gold is a 60%...  \n",
       "...                                                 ...  \n",
       "2158  Zeus OG is a hybrid cross between Pineapple OG...  \n",
       "2159  Zkittlez is an indica-dominant mix of Grape Ap...  \n",
       "2160  Zombie Kush by Ripper Seeds comes from two dif...  \n",
       "2161  If you’re looking to transform into a flesh-ea...  \n",
       "2162  Zoom Pie (also known as Zombie Pie) is a heavy...  \n",
       "\n",
       "[2163 rows x 7 columns]"
      ]
     },
     "execution_count": 5,
     "metadata": {},
     "output_type": "execute_result"
    }
   ],
   "source": [
    "print(df.shape)\n",
    "df"
   ]
  },
  {
   "cell_type": "code",
   "execution_count": 6,
   "metadata": {},
   "outputs": [
    {
     "data": {
      "text/plain": [
       "'Creative Energetic Tingly Euphoric RelaxedEarthy Sweet Citrus$100 OG is a 50/50 hybrid strain that packs a strong punch. The name supposedly refers to both its strength and high price when it first started showing up in Hollywood. As a plant, $100 OG tends to produce large dark green buds with few stems. Users report a strong body effect of an indica for pain relief with the more alert, cerebral feeling thanks to its sativa side.'"
      ]
     },
     "execution_count": 6,
     "metadata": {},
     "output_type": "execute_result"
    }
   ],
   "source": [
    "df['combined'] = df[\"Effects\"] +  df[\"Flavor\"] + df['Description']\n",
    "df[\"combined\"][0]"
   ]
  },
  {
   "cell_type": "code",
   "execution_count": 7,
   "metadata": {},
   "outputs": [
    {
     "data": {
      "text/html": [
       "<div>\n",
       "<style scoped>\n",
       "    .dataframe tbody tr th:only-of-type {\n",
       "        vertical-align: middle;\n",
       "    }\n",
       "\n",
       "    .dataframe tbody tr th {\n",
       "        vertical-align: top;\n",
       "    }\n",
       "\n",
       "    .dataframe thead th {\n",
       "        text-align: right;\n",
       "    }\n",
       "</style>\n",
       "<table border=\"1\" class=\"dataframe\">\n",
       "  <thead>\n",
       "    <tr style=\"text-align: right;\">\n",
       "      <th></th>\n",
       "      <th>index</th>\n",
       "      <th>Strain</th>\n",
       "      <th>Type</th>\n",
       "      <th>Rating</th>\n",
       "      <th>Effects</th>\n",
       "      <th>Flavor</th>\n",
       "      <th>Description</th>\n",
       "      <th>combined</th>\n",
       "    </tr>\n",
       "  </thead>\n",
       "  <tbody>\n",
       "    <tr>\n",
       "      <th>0</th>\n",
       "      <td>0</td>\n",
       "      <td>100-Og</td>\n",
       "      <td>hybrid</td>\n",
       "      <td>4.0</td>\n",
       "      <td>Creative Energetic Tingly Euphoric Relaxed</td>\n",
       "      <td>Earthy Sweet Citrus</td>\n",
       "      <td>$100 OG is a 50/50 hybrid strain that packs a ...</td>\n",
       "      <td>Creative Energetic Tingly Euphoric RelaxedEart...</td>\n",
       "    </tr>\n",
       "    <tr>\n",
       "      <th>1</th>\n",
       "      <td>1</td>\n",
       "      <td>98-White-Widow</td>\n",
       "      <td>hybrid</td>\n",
       "      <td>4.7</td>\n",
       "      <td>Relaxed Aroused Creative Happy Energetic</td>\n",
       "      <td>Flowery Violet Diesel</td>\n",
       "      <td>The ‘98 Aloha White Widow is an especially pot...</td>\n",
       "      <td>Relaxed Aroused Creative Happy EnergeticFlower...</td>\n",
       "    </tr>\n",
       "    <tr>\n",
       "      <th>2</th>\n",
       "      <td>2</td>\n",
       "      <td>1024</td>\n",
       "      <td>sativa</td>\n",
       "      <td>4.4</td>\n",
       "      <td>Uplifted Happy Relaxed Energetic Creative</td>\n",
       "      <td>Spicy/Herbal Sage Woody</td>\n",
       "      <td>1024 is a sativa-dominant hybrid bred in Spain...</td>\n",
       "      <td>Uplifted Happy Relaxed Energetic CreativeSpicy...</td>\n",
       "    </tr>\n",
       "    <tr>\n",
       "      <th>3</th>\n",
       "      <td>3</td>\n",
       "      <td>13-Dawgs</td>\n",
       "      <td>hybrid</td>\n",
       "      <td>4.2</td>\n",
       "      <td>Tingly Creative Hungry Relaxed Uplifted</td>\n",
       "      <td>Apricot Citrus Grapefruit</td>\n",
       "      <td>13 Dawgs is a hybrid of G13 and Chemdawg genet...</td>\n",
       "      <td>Tingly Creative Hungry Relaxed UpliftedApricot...</td>\n",
       "    </tr>\n",
       "    <tr>\n",
       "      <th>4</th>\n",
       "      <td>4</td>\n",
       "      <td>24K-Gold</td>\n",
       "      <td>hybrid</td>\n",
       "      <td>4.6</td>\n",
       "      <td>Happy Relaxed Euphoric Uplifted Talkative</td>\n",
       "      <td>Citrus Earthy Orange</td>\n",
       "      <td>Also known as Kosher Tangie, 24k Gold is a 60%...</td>\n",
       "      <td>Happy Relaxed Euphoric Uplifted TalkativeCitru...</td>\n",
       "    </tr>\n",
       "  </tbody>\n",
       "</table>\n",
       "</div>"
      ],
      "text/plain": [
       "   index          Strain    Type  Rating  \\\n",
       "0      0          100-Og  hybrid     4.0   \n",
       "1      1  98-White-Widow  hybrid     4.7   \n",
       "2      2            1024  sativa     4.4   \n",
       "3      3        13-Dawgs  hybrid     4.2   \n",
       "4      4        24K-Gold  hybrid     4.6   \n",
       "\n",
       "                                      Effects                     Flavor  \\\n",
       "0  Creative Energetic Tingly Euphoric Relaxed        Earthy Sweet Citrus   \n",
       "1    Relaxed Aroused Creative Happy Energetic      Flowery Violet Diesel   \n",
       "2   Uplifted Happy Relaxed Energetic Creative    Spicy/Herbal Sage Woody   \n",
       "3     Tingly Creative Hungry Relaxed Uplifted  Apricot Citrus Grapefruit   \n",
       "4   Happy Relaxed Euphoric Uplifted Talkative       Citrus Earthy Orange   \n",
       "\n",
       "                                         Description  \\\n",
       "0  $100 OG is a 50/50 hybrid strain that packs a ...   \n",
       "1  The ‘98 Aloha White Widow is an especially pot...   \n",
       "2  1024 is a sativa-dominant hybrid bred in Spain...   \n",
       "3  13 Dawgs is a hybrid of G13 and Chemdawg genet...   \n",
       "4  Also known as Kosher Tangie, 24k Gold is a 60%...   \n",
       "\n",
       "                                            combined  \n",
       "0  Creative Energetic Tingly Euphoric RelaxedEart...  \n",
       "1  Relaxed Aroused Creative Happy EnergeticFlower...  \n",
       "2  Uplifted Happy Relaxed Energetic CreativeSpicy...  \n",
       "3  Tingly Creative Hungry Relaxed UpliftedApricot...  \n",
       "4  Happy Relaxed Euphoric Uplifted TalkativeCitru...  "
      ]
     },
     "execution_count": 7,
     "metadata": {},
     "output_type": "execute_result"
    }
   ],
   "source": [
    "df.head()"
   ]
  },
  {
   "cell_type": "code",
   "execution_count": 8,
   "metadata": {},
   "outputs": [
    {
     "name": "stdout",
     "output_type": "stream",
     "text": [
      "0    [Creative, Energetic, Tingly, Euphoric, Relaxe...\n",
      "1    [Relaxed, Aroused, Creative, Happy, EnergeticF...\n",
      "2    [Uplifted, Happy, Relaxed, Energetic, Creative...\n",
      "3    [Tingly, Creative, Hungry, Relaxed, UpliftedAp...\n",
      "4    [Happy, Relaxed, Euphoric, Uplifted, Talkative...\n",
      "Name: combined_tokens, dtype: object\n"
     ]
    }
   ],
   "source": [
    "import spacy\n",
    "from spacy.tokenizer import Tokenizer\n",
    "from sklearn.neighbors import NearestNeighbors\n",
    "from sklearn.feature_extraction.text import TfidfVectorizer\n",
    "\n",
    "nlp = spacy.load(\"en_core_web_lg\")\n",
    "df.head()\n",
    "\n",
    "# The Tokenizer\n",
    "tokenizer = Tokenizer(nlp.vocab)\n",
    "\n",
    "# Make the tokens for description\n",
    "combined_tokens = []\n",
    "for txt in tokenizer.pipe(df['combined'], batch_size=500):\n",
    "    txt_tokens = [token.text for token in txt]\n",
    "    combined_tokens.append(txt_tokens)\n",
    "df['combined_tokens'] = combined_tokens\n",
    "print(df['combined_tokens'].head())"
   ]
  },
  {
   "cell_type": "code",
   "execution_count": 9,
   "metadata": {},
   "outputs": [
    {
     "data": {
      "text/html": [
       "<div>\n",
       "<style scoped>\n",
       "    .dataframe tbody tr th:only-of-type {\n",
       "        vertical-align: middle;\n",
       "    }\n",
       "\n",
       "    .dataframe tbody tr th {\n",
       "        vertical-align: top;\n",
       "    }\n",
       "\n",
       "    .dataframe thead th {\n",
       "        text-align: right;\n",
       "    }\n",
       "</style>\n",
       "<table border=\"1\" class=\"dataframe\">\n",
       "  <thead>\n",
       "    <tr style=\"text-align: right;\">\n",
       "      <th></th>\n",
       "      <th>index</th>\n",
       "      <th>Strain</th>\n",
       "      <th>Type</th>\n",
       "      <th>Rating</th>\n",
       "      <th>Effects</th>\n",
       "      <th>Flavor</th>\n",
       "      <th>Description</th>\n",
       "      <th>combined</th>\n",
       "      <th>combined_tokens</th>\n",
       "    </tr>\n",
       "  </thead>\n",
       "  <tbody>\n",
       "    <tr>\n",
       "      <th>0</th>\n",
       "      <td>0</td>\n",
       "      <td>100-Og</td>\n",
       "      <td>hybrid</td>\n",
       "      <td>4.0</td>\n",
       "      <td>Creative Energetic Tingly Euphoric Relaxed</td>\n",
       "      <td>Earthy Sweet Citrus</td>\n",
       "      <td>$100 OG is a 50/50 hybrid strain that packs a ...</td>\n",
       "      <td>Creative Energetic Tingly Euphoric RelaxedEart...</td>\n",
       "      <td>[Creative, Energetic, Tingly, Euphoric, Relaxe...</td>\n",
       "    </tr>\n",
       "    <tr>\n",
       "      <th>1</th>\n",
       "      <td>1</td>\n",
       "      <td>98-White-Widow</td>\n",
       "      <td>hybrid</td>\n",
       "      <td>4.7</td>\n",
       "      <td>Relaxed Aroused Creative Happy Energetic</td>\n",
       "      <td>Flowery Violet Diesel</td>\n",
       "      <td>The ‘98 Aloha White Widow is an especially pot...</td>\n",
       "      <td>Relaxed Aroused Creative Happy EnergeticFlower...</td>\n",
       "      <td>[Relaxed, Aroused, Creative, Happy, EnergeticF...</td>\n",
       "    </tr>\n",
       "    <tr>\n",
       "      <th>2</th>\n",
       "      <td>2</td>\n",
       "      <td>1024</td>\n",
       "      <td>sativa</td>\n",
       "      <td>4.4</td>\n",
       "      <td>Uplifted Happy Relaxed Energetic Creative</td>\n",
       "      <td>Spicy/Herbal Sage Woody</td>\n",
       "      <td>1024 is a sativa-dominant hybrid bred in Spain...</td>\n",
       "      <td>Uplifted Happy Relaxed Energetic CreativeSpicy...</td>\n",
       "      <td>[Uplifted, Happy, Relaxed, Energetic, Creative...</td>\n",
       "    </tr>\n",
       "    <tr>\n",
       "      <th>3</th>\n",
       "      <td>3</td>\n",
       "      <td>13-Dawgs</td>\n",
       "      <td>hybrid</td>\n",
       "      <td>4.2</td>\n",
       "      <td>Tingly Creative Hungry Relaxed Uplifted</td>\n",
       "      <td>Apricot Citrus Grapefruit</td>\n",
       "      <td>13 Dawgs is a hybrid of G13 and Chemdawg genet...</td>\n",
       "      <td>Tingly Creative Hungry Relaxed UpliftedApricot...</td>\n",
       "      <td>[Tingly, Creative, Hungry, Relaxed, UpliftedAp...</td>\n",
       "    </tr>\n",
       "    <tr>\n",
       "      <th>4</th>\n",
       "      <td>4</td>\n",
       "      <td>24K-Gold</td>\n",
       "      <td>hybrid</td>\n",
       "      <td>4.6</td>\n",
       "      <td>Happy Relaxed Euphoric Uplifted Talkative</td>\n",
       "      <td>Citrus Earthy Orange</td>\n",
       "      <td>Also known as Kosher Tangie, 24k Gold is a 60%...</td>\n",
       "      <td>Happy Relaxed Euphoric Uplifted TalkativeCitru...</td>\n",
       "      <td>[Happy, Relaxed, Euphoric, Uplifted, Talkative...</td>\n",
       "    </tr>\n",
       "  </tbody>\n",
       "</table>\n",
       "</div>"
      ],
      "text/plain": [
       "   index          Strain    Type  Rating  \\\n",
       "0      0          100-Og  hybrid     4.0   \n",
       "1      1  98-White-Widow  hybrid     4.7   \n",
       "2      2            1024  sativa     4.4   \n",
       "3      3        13-Dawgs  hybrid     4.2   \n",
       "4      4        24K-Gold  hybrid     4.6   \n",
       "\n",
       "                                      Effects                     Flavor  \\\n",
       "0  Creative Energetic Tingly Euphoric Relaxed        Earthy Sweet Citrus   \n",
       "1    Relaxed Aroused Creative Happy Energetic      Flowery Violet Diesel   \n",
       "2   Uplifted Happy Relaxed Energetic Creative    Spicy/Herbal Sage Woody   \n",
       "3     Tingly Creative Hungry Relaxed Uplifted  Apricot Citrus Grapefruit   \n",
       "4   Happy Relaxed Euphoric Uplifted Talkative       Citrus Earthy Orange   \n",
       "\n",
       "                                         Description  \\\n",
       "0  $100 OG is a 50/50 hybrid strain that packs a ...   \n",
       "1  The ‘98 Aloha White Widow is an especially pot...   \n",
       "2  1024 is a sativa-dominant hybrid bred in Spain...   \n",
       "3  13 Dawgs is a hybrid of G13 and Chemdawg genet...   \n",
       "4  Also known as Kosher Tangie, 24k Gold is a 60%...   \n",
       "\n",
       "                                            combined  \\\n",
       "0  Creative Energetic Tingly Euphoric RelaxedEart...   \n",
       "1  Relaxed Aroused Creative Happy EnergeticFlower...   \n",
       "2  Uplifted Happy Relaxed Energetic CreativeSpicy...   \n",
       "3  Tingly Creative Hungry Relaxed UpliftedApricot...   \n",
       "4  Happy Relaxed Euphoric Uplifted TalkativeCitru...   \n",
       "\n",
       "                                     combined_tokens  \n",
       "0  [Creative, Energetic, Tingly, Euphoric, Relaxe...  \n",
       "1  [Relaxed, Aroused, Creative, Happy, EnergeticF...  \n",
       "2  [Uplifted, Happy, Relaxed, Energetic, Creative...  \n",
       "3  [Tingly, Creative, Hungry, Relaxed, UpliftedAp...  \n",
       "4  [Happy, Relaxed, Euphoric, Uplifted, Talkative...  "
      ]
     },
     "execution_count": 9,
     "metadata": {},
     "output_type": "execute_result"
    }
   ],
   "source": [
    "df.head()"
   ]
  },
  {
   "cell_type": "code",
   "execution_count": 10,
   "metadata": {},
   "outputs": [
    {
     "data": {
      "text/plain": [
       "['Creative',\n",
       " 'Energetic',\n",
       " 'Tingly',\n",
       " 'Euphoric',\n",
       " 'RelaxedEarthy',\n",
       " 'Sweet',\n",
       " 'Citrus$100',\n",
       " 'OG',\n",
       " 'is',\n",
       " 'a',\n",
       " '50/50',\n",
       " 'hybrid',\n",
       " 'strain',\n",
       " 'that',\n",
       " 'packs',\n",
       " 'a',\n",
       " 'strong',\n",
       " 'punch.',\n",
       " 'The',\n",
       " 'name',\n",
       " 'supposedly',\n",
       " 'refers',\n",
       " 'to',\n",
       " 'both',\n",
       " 'its',\n",
       " 'strength',\n",
       " 'and',\n",
       " 'high',\n",
       " 'price',\n",
       " 'when',\n",
       " 'it',\n",
       " 'first',\n",
       " 'started',\n",
       " 'showing',\n",
       " 'up',\n",
       " 'in',\n",
       " 'Hollywood.',\n",
       " 'As',\n",
       " 'a',\n",
       " 'plant,',\n",
       " '$100',\n",
       " 'OG',\n",
       " 'tends',\n",
       " 'to',\n",
       " 'produce',\n",
       " 'large',\n",
       " 'dark',\n",
       " 'green',\n",
       " 'buds',\n",
       " 'with',\n",
       " 'few',\n",
       " 'stems.',\n",
       " 'Users',\n",
       " 'report',\n",
       " 'a',\n",
       " 'strong',\n",
       " 'body',\n",
       " 'effect',\n",
       " 'of',\n",
       " 'an',\n",
       " 'indica',\n",
       " 'for',\n",
       " 'pain',\n",
       " 'relief',\n",
       " 'with',\n",
       " 'the',\n",
       " 'more',\n",
       " 'alert,',\n",
       " 'cerebral',\n",
       " 'feeling',\n",
       " 'thanks',\n",
       " 'to',\n",
       " 'its',\n",
       " 'sativa',\n",
       " 'side.']"
      ]
     },
     "execution_count": 10,
     "metadata": {},
     "output_type": "execute_result"
    }
   ],
   "source": [
    "df['combined_tokens'][0]"
   ]
  },
  {
   "cell_type": "code",
   "execution_count": 11,
   "metadata": {},
   "outputs": [],
   "source": [
    "def tokenize(document):\n",
    "    \n",
    "    doc = nlp(document)\n",
    "    \n",
    "    return [token.lemma_.strip() for token in doc if (token.is_stop != True) and (token.is_punct != True)]"
   ]
  },
  {
   "cell_type": "code",
   "execution_count": 12,
   "metadata": {},
   "outputs": [
    {
     "name": "stdout",
     "output_type": "stream",
     "text": [
      "(2163, 2000)\n"
     ]
    },
    {
     "data": {
      "text/html": [
       "<div>\n",
       "<style scoped>\n",
       "    .dataframe tbody tr th:only-of-type {\n",
       "        vertical-align: middle;\n",
       "    }\n",
       "\n",
       "    .dataframe tbody tr th {\n",
       "        vertical-align: top;\n",
       "    }\n",
       "\n",
       "    .dataframe thead th {\n",
       "        text-align: right;\n",
       "    }\n",
       "</style>\n",
       "<table border=\"1\" class=\"dataframe\">\n",
       "  <thead>\n",
       "    <tr style=\"text-align: right;\">\n",
       "      <th></th>\n",
       "      <th>10</th>\n",
       "      <th>10 weeks</th>\n",
       "      <th>11</th>\n",
       "      <th>11 weeks</th>\n",
       "      <th>12</th>\n",
       "      <th>13</th>\n",
       "      <th>14</th>\n",
       "      <th>15</th>\n",
       "      <th>18</th>\n",
       "      <th>1980s</th>\n",
       "      <th>...</th>\n",
       "      <th>world</th>\n",
       "      <th>worth</th>\n",
       "      <th>wowie</th>\n",
       "      <th>wrapped</th>\n",
       "      <th>wreck</th>\n",
       "      <th>years</th>\n",
       "      <th>yield</th>\n",
       "      <th>yielding</th>\n",
       "      <th>yields</th>\n",
       "      <th>zesty</th>\n",
       "    </tr>\n",
       "  </thead>\n",
       "  <tbody>\n",
       "    <tr>\n",
       "      <th>0</th>\n",
       "      <td>0.0</td>\n",
       "      <td>0.0</td>\n",
       "      <td>0.0</td>\n",
       "      <td>0.0</td>\n",
       "      <td>0.0</td>\n",
       "      <td>0.00000</td>\n",
       "      <td>0.0</td>\n",
       "      <td>0.0</td>\n",
       "      <td>0.000000</td>\n",
       "      <td>0.0</td>\n",
       "      <td>...</td>\n",
       "      <td>0.0</td>\n",
       "      <td>0.0</td>\n",
       "      <td>0.000000</td>\n",
       "      <td>0.0</td>\n",
       "      <td>0.0</td>\n",
       "      <td>0.0</td>\n",
       "      <td>0.0</td>\n",
       "      <td>0.0</td>\n",
       "      <td>0.0</td>\n",
       "      <td>0.0</td>\n",
       "    </tr>\n",
       "    <tr>\n",
       "      <th>1</th>\n",
       "      <td>0.0</td>\n",
       "      <td>0.0</td>\n",
       "      <td>0.0</td>\n",
       "      <td>0.0</td>\n",
       "      <td>0.0</td>\n",
       "      <td>0.00000</td>\n",
       "      <td>0.0</td>\n",
       "      <td>0.0</td>\n",
       "      <td>0.000000</td>\n",
       "      <td>0.0</td>\n",
       "      <td>...</td>\n",
       "      <td>0.0</td>\n",
       "      <td>0.0</td>\n",
       "      <td>0.138621</td>\n",
       "      <td>0.0</td>\n",
       "      <td>0.0</td>\n",
       "      <td>0.0</td>\n",
       "      <td>0.0</td>\n",
       "      <td>0.0</td>\n",
       "      <td>0.0</td>\n",
       "      <td>0.0</td>\n",
       "    </tr>\n",
       "    <tr>\n",
       "      <th>2</th>\n",
       "      <td>0.0</td>\n",
       "      <td>0.0</td>\n",
       "      <td>0.0</td>\n",
       "      <td>0.0</td>\n",
       "      <td>0.0</td>\n",
       "      <td>0.00000</td>\n",
       "      <td>0.0</td>\n",
       "      <td>0.0</td>\n",
       "      <td>0.000000</td>\n",
       "      <td>0.0</td>\n",
       "      <td>...</td>\n",
       "      <td>0.0</td>\n",
       "      <td>0.0</td>\n",
       "      <td>0.000000</td>\n",
       "      <td>0.0</td>\n",
       "      <td>0.0</td>\n",
       "      <td>0.0</td>\n",
       "      <td>0.0</td>\n",
       "      <td>0.0</td>\n",
       "      <td>0.0</td>\n",
       "      <td>0.0</td>\n",
       "    </tr>\n",
       "    <tr>\n",
       "      <th>3</th>\n",
       "      <td>0.0</td>\n",
       "      <td>0.0</td>\n",
       "      <td>0.0</td>\n",
       "      <td>0.0</td>\n",
       "      <td>0.0</td>\n",
       "      <td>0.35166</td>\n",
       "      <td>0.0</td>\n",
       "      <td>0.0</td>\n",
       "      <td>0.000000</td>\n",
       "      <td>0.0</td>\n",
       "      <td>...</td>\n",
       "      <td>0.0</td>\n",
       "      <td>0.0</td>\n",
       "      <td>0.000000</td>\n",
       "      <td>0.0</td>\n",
       "      <td>0.0</td>\n",
       "      <td>0.0</td>\n",
       "      <td>0.0</td>\n",
       "      <td>0.0</td>\n",
       "      <td>0.0</td>\n",
       "      <td>0.0</td>\n",
       "    </tr>\n",
       "    <tr>\n",
       "      <th>4</th>\n",
       "      <td>0.0</td>\n",
       "      <td>0.0</td>\n",
       "      <td>0.0</td>\n",
       "      <td>0.0</td>\n",
       "      <td>0.0</td>\n",
       "      <td>0.00000</td>\n",
       "      <td>0.0</td>\n",
       "      <td>0.0</td>\n",
       "      <td>0.133172</td>\n",
       "      <td>0.0</td>\n",
       "      <td>...</td>\n",
       "      <td>0.0</td>\n",
       "      <td>0.0</td>\n",
       "      <td>0.000000</td>\n",
       "      <td>0.0</td>\n",
       "      <td>0.0</td>\n",
       "      <td>0.0</td>\n",
       "      <td>0.0</td>\n",
       "      <td>0.0</td>\n",
       "      <td>0.0</td>\n",
       "      <td>0.0</td>\n",
       "    </tr>\n",
       "  </tbody>\n",
       "</table>\n",
       "<p>5 rows × 2000 columns</p>\n",
       "</div>"
      ],
      "text/plain": [
       "    10  10 weeks   11  11 weeks   12       13   14   15        18  1980s  ...  \\\n",
       "0  0.0       0.0  0.0       0.0  0.0  0.00000  0.0  0.0  0.000000    0.0  ...   \n",
       "1  0.0       0.0  0.0       0.0  0.0  0.00000  0.0  0.0  0.000000    0.0  ...   \n",
       "2  0.0       0.0  0.0       0.0  0.0  0.00000  0.0  0.0  0.000000    0.0  ...   \n",
       "3  0.0       0.0  0.0       0.0  0.0  0.35166  0.0  0.0  0.000000    0.0  ...   \n",
       "4  0.0       0.0  0.0       0.0  0.0  0.00000  0.0  0.0  0.133172    0.0  ...   \n",
       "\n",
       "   world  worth     wowie  wrapped  wreck  years  yield  yielding  yields  \\\n",
       "0    0.0    0.0  0.000000      0.0    0.0    0.0    0.0       0.0     0.0   \n",
       "1    0.0    0.0  0.138621      0.0    0.0    0.0    0.0       0.0     0.0   \n",
       "2    0.0    0.0  0.000000      0.0    0.0    0.0    0.0       0.0     0.0   \n",
       "3    0.0    0.0  0.000000      0.0    0.0    0.0    0.0       0.0     0.0   \n",
       "4    0.0    0.0  0.000000      0.0    0.0    0.0    0.0       0.0     0.0   \n",
       "\n",
       "   zesty  \n",
       "0    0.0  \n",
       "1    0.0  \n",
       "2    0.0  \n",
       "3    0.0  \n",
       "4    0.0  \n",
       "\n",
       "[5 rows x 2000 columns]"
      ]
     },
     "execution_count": 12,
     "metadata": {},
     "output_type": "execute_result"
    }
   ],
   "source": [
    "\n",
    "# Instantiate vectorizer object\n",
    "tfidf = TfidfVectorizer(stop_words = 'english',\n",
    "                       ngram_range = (1,2),\n",
    "                       max_features = 2000)\n",
    "\n",
    "# Create a vocabulary and tf-idf score per document\n",
    "dtm = tfidf.fit_transform(df['combined'])\n",
    "                         \n",
    "\n",
    "# Get feature names to use as dataframe column headers\n",
    "dtm = pd.DataFrame(dtm.todense(), columns=tfidf.get_feature_names())\n",
    "nn = NearestNeighbors(n_neighbors=4, algorithm='kd_tree')\n",
    "nn.fit(dtm)\n",
    "\n",
    "\n",
    "# View Feature Matrix as DataFrame\n",
    "print(dtm.shape)\n",
    "dtm.head()"
   ]
  },
  {
   "cell_type": "code",
   "execution_count": 13,
   "metadata": {},
   "outputs": [],
   "source": [
    "ideal = [\"\"\"\n",
    "Creative,Uplifted,Tingly,Euphoric,Relaxed, Giggly\n",
    "\"\"\"]"
   ]
  },
  {
   "cell_type": "code",
   "execution_count": 14,
   "metadata": {},
   "outputs": [
    {
     "data": {
      "text/plain": [
       "<1x2000 sparse matrix of type '<class 'numpy.float64'>'\n",
       "\twith 11 stored elements in Compressed Sparse Row format>"
      ]
     },
     "execution_count": 14,
     "metadata": {},
     "output_type": "execute_result"
    }
   ],
   "source": [
    "# Query the ideal descprition\n",
    "new = tfidf.transform(ideal)\n",
    "new"
   ]
  },
  {
   "cell_type": "code",
   "execution_count": 15,
   "metadata": {},
   "outputs": [
    {
     "data": {
      "text/plain": [
       "(array([[1.19045604, 1.26028088, 1.26830873, 1.27166822]]),\n",
       " array([[1881, 1586,  373,  317]]))"
      ]
     },
     "execution_count": 15,
     "metadata": {},
     "output_type": "execute_result"
    }
   ],
   "source": [
    "nn.kneighbors(new.todense())"
   ]
  },
  {
   "cell_type": "code",
   "execution_count": 16,
   "metadata": {},
   "outputs": [
    {
     "data": {
      "text/plain": [
       "'Saturn OG is a hybrid strain with mysterious beginnings, but its earthy citrus and diesel flavors confirms its close relationship to OG Kush. Its undocumented origins result in this strain being labeled as indica, sativa, and everything in between, but its effects are most commonly described as hybrid-like in its balanced calm and moderate cerebral effects. Saturn OG’s forest green buds are lit by a constellation of crystal trichomes, and this OG Kush relative is often lumped into a “planetary strain” series that includes Earth OG and Jupiter OG. The psychoactive onset of Saturn OG begins with an intense burst of euphoria that fades to smooth relaxation perfect for relieving stress and muscle tension.\\xa0'"
      ]
     },
     "execution_count": 16,
     "metadata": {},
     "output_type": "execute_result"
    }
   ],
   "source": [
    "# most ideal description,strain and flavor\n",
    "df['Description'][1681]"
   ]
  },
  {
   "cell_type": "code",
   "execution_count": 17,
   "metadata": {},
   "outputs": [
    {
     "data": {
      "text/plain": [
       "'Saturn-Og'"
      ]
     },
     "execution_count": 17,
     "metadata": {},
     "output_type": "execute_result"
    }
   ],
   "source": [
    "df['Strain'][1681]"
   ]
  },
  {
   "cell_type": "code",
   "execution_count": 18,
   "metadata": {},
   "outputs": [
    {
     "data": {
      "text/plain": [
       "'Earthy Sweet Tree Fruit'"
      ]
     },
     "execution_count": 18,
     "metadata": {},
     "output_type": "execute_result"
    }
   ],
   "source": [
    "df['Flavor'][1681]"
   ]
  },
  {
   "cell_type": "code",
   "execution_count": 19,
   "metadata": {},
   "outputs": [
    {
     "data": {
      "text/plain": [
       "'Happy Relaxed Euphoric Uplifted Sleepy'"
      ]
     },
     "execution_count": 19,
     "metadata": {},
     "output_type": "execute_result"
    }
   ],
   "source": [
    "df['Effects'][1681]"
   ]
  },
  {
   "cell_type": "code",
   "execution_count": 20,
   "metadata": {},
   "outputs": [],
   "source": [
    "import pickle\n",
    "# Dump the trained classifier (nn)  with Pickle\n",
    "pickle_filename = 'model.pkl2'\n",
    "pickled_model = open(pickle_filename, 'wb')  # Open the file to save as pkl file\n",
    "pickle.dump(nn, pickled_model)\n",
    "pickled_model.close() # Close the pickle instances"
   ]
  },
  {
   "cell_type": "code",
   "execution_count": 21,
   "metadata": {},
   "outputs": [
    {
     "name": "stdout",
     "output_type": "stream",
     "text": [
      "Loaded model ::  NearestNeighbors(algorithm='kd_tree', leaf_size=30, metric='minkowski',\n",
      "                 metric_params=None, n_jobs=None, n_neighbors=4, p=2,\n",
      "                 radius=1.0)\n"
     ]
    }
   ],
   "source": [
    "# Loading the saved model\n",
    "model_pkl2 = open(pickle_filename, 'rb')\n",
    "NN_model2 = pickle.load(model_pkl2)\n",
    "print (\"Loaded model :: \", NN_model2)  # print to verify"
   ]
  },
  {
   "cell_type": "code",
   "execution_count": 22,
   "metadata": {},
   "outputs": [],
   "source": [
    "# Dump the trained classifier (tfidf)  with Pickle\n",
    "pickle_filename_1 = 'tfidf.pkl2'\n",
    "pickled_model_1 = open(pickle_filename_1, 'wb')  # Open the file to save as pkl file\n",
    "pickle.dump(tfidf, pickled_model_1)\n",
    "pickled_model_1.close() # Close the pickle instances"
   ]
  },
  {
   "cell_type": "code",
   "execution_count": 23,
   "metadata": {},
   "outputs": [
    {
     "name": "stdout",
     "output_type": "stream",
     "text": [
      "Loaded model ::  TfidfVectorizer(analyzer='word', binary=False, decode_error='strict',\n",
      "                dtype=<class 'numpy.float64'>, encoding='utf-8',\n",
      "                input='content', lowercase=True, max_df=1.0, max_features=2000,\n",
      "                min_df=1, ngram_range=(1, 2), norm='l2', preprocessor=None,\n",
      "                smooth_idf=True, stop_words='english', strip_accents=None,\n",
      "                sublinear_tf=False, token_pattern='(?u)\\\\b\\\\w\\\\w+\\\\b',\n",
      "                tokenizer=None, use_idf=True, vocabulary=None)\n"
     ]
    }
   ],
   "source": [
    "# Loading the saved model\n",
    "model_pkl_1 = open(pickle_filename_1, 'rb')\n",
    "tfidf_model2 = pickle.load(model_pkl_1)\n",
    "print (\"Loaded model :: \", tfidf_model2)  # print to verify"
   ]
  },
  {
   "cell_type": "code",
   "execution_count": 24,
   "metadata": {},
   "outputs": [],
   "source": [
    "ideal2 = [\"happy,Sleepy,Apricot,Citrus,Grapefruit\"]"
   ]
  },
  {
   "cell_type": "code",
   "execution_count": 25,
   "metadata": {},
   "outputs": [
    {
     "data": {
      "text/plain": [
       "<1x2000 sparse matrix of type '<class 'numpy.float64'>'\n",
       "\twith 5 stored elements in Compressed Sparse Row format>"
      ]
     },
     "execution_count": 25,
     "metadata": {},
     "output_type": "execute_result"
    }
   ],
   "source": [
    "new2 = tfidf_model2.transform(ideal2)\n",
    "new2"
   ]
  },
  {
   "cell_type": "code",
   "execution_count": 26,
   "metadata": {},
   "outputs": [
    {
     "data": {
      "text/plain": [
       "(array([[1.09504845, 1.14089606, 1.15844355, 1.18178543]]),\n",
       " array([[1911,  398,  863, 1497]]))"
      ]
     },
     "execution_count": 26,
     "metadata": {},
     "output_type": "execute_result"
    }
   ],
   "source": [
    "NN_model2.kneighbors(new2.todense())"
   ]
  },
  {
   "cell_type": "code",
   "execution_count": 27,
   "metadata": {},
   "outputs": [
    {
     "data": {
      "text/plain": [
       "'Triangle-Kush'"
      ]
     },
     "execution_count": 27,
     "metadata": {},
     "output_type": "execute_result"
    }
   ],
   "source": [
    "df['Strain'][2013]"
   ]
  },
  {
   "cell_type": "code",
   "execution_count": 28,
   "metadata": {},
   "outputs": [],
   "source": [
    "import json\n",
    "def recommend(user_input):\n",
    "    temp_df = NN_model2.kneighbors(tfidf_model2.transform([user_input]).todense())[1]\n",
    "    \n",
    "\n",
    "    #print(temp_df)\n",
    "    \n",
    "    for i in range(4):\n",
    "        info = df.loc[temp_df[0][i]]['Strain']\n",
    "        info_effects = df.loc[temp_df[0][i]]['Effects']\n",
    "        info_flavor = df.loc[temp_df[0][i]]['Flavor']\n",
    "        info_description = df.loc[temp_df[0][i]]['Description']\n",
    "        info_rating = df.loc[temp_df[0][i]]['Rating']\n",
    "        \n",
    "        print(json.dumps(info))\n",
    "        print(json.dumps(info_effects))\n",
    "        print(json.dumps(info_flavor))\n",
    "        print(json.dumps(info_description))\n",
    "        print(json.dumps(info_rating))\n",
    "        \n",
    "        #return json.dumps(info)  #for engineeers, the return does not work in jupyter lab.  Should work in vsCode.\n",
    "        #return json.dumps(info_effects)\n",
    "        #return json.dumps(info_flavor)\n",
    "        #return json.dump(info_description)\n",
    "        #return json.dumps(info_rating)"
   ]
  },
  {
   "cell_type": "code",
   "execution_count": 29,
   "metadata": {},
   "outputs": [
    {
     "name": "stdout",
     "output_type": "stream",
     "text": [
      "\"Saturn-Og\"\n",
      "\"Happy Relaxed Euphoric Uplifted Sleepy\"\n",
      "\"Earthy Sweet Tree Fruit\"\n",
      "\"Saturn OG is a hybrid strain with mysterious beginnings, but its earthy citrus and diesel flavors confirms its close relationship to OG Kush. Its undocumented origins result in this strain being labeled as indica, sativa, and everything in between, but its effects are most commonly described as hybrid-like in its balanced calm and moderate cerebral effects. Saturn OG\\u2019s forest green buds are lit by a constellation of crystal trichomes, and this OG Kush relative is often lumped into a \\u201cplanetary strain\\u201d series that includes Earth OG and Jupiter OG. The psychoactive onset of Saturn OG begins with an intense burst of euphoria that fades to smooth relaxation perfect for relieving stress and muscle tension.\\u00a0\"\n",
      "4.5\n",
      "\"Moonwalker-Kush\"\n",
      "\"Relaxed Euphoric Happy Focused Giggly\"\n",
      "\"Earthy Pine Minty\"\n",
      "\"Moonwalker Kush is a balanced indica-dominant hybrid that is the genetic cross of Triple OG and Tahoe Alien. This odoriferous combination speaks volumes through its scent, which is thick with soured earth and a hint of pepper on the finish. The herbaceous terpene profile aligns nicely with this strain\\u2019s intense relaxation and moderate cerebral effects. Try Moonwalker Kush after dark to harness the sedative effects nestled below layers of trichomes and brown pistils. \\u00a0\\u00a0\\u00a0\"\n",
      "4.9\n",
      "\"Sapphire-Star\"\n",
      "\"Uplifted Focused Happy Euphoric Relaxed\"\n",
      "\"Grapefruit Lemon Sweet\"\n",
      "\"Sapphire Star, a cross between Blue Hawaiian sativa and God Bud, is a hybrid whose genetics and cerebral effects tip slightly toward the sativa side. This strain from Jordan of the Islands is quite possibly named for its bluish accents and starry coat of white crystal trichomes. Cerebral energy balanced by an indica calm create a comfortable psychoactive experience conducive for creative and social activities. Berry overtones tinged with a sour skunk aroma build a complex flavor profile for the small dense buds. Sapphire Star, with a flowering time of 7 to 8 weeks, grows to a towering 15 feet outdoors and up to 6 feet in indoor gardens.\\u00a0\"\n",
      "4.5\n",
      "\"Lapd\"\n",
      "\"Uplifted Energetic Happy Relaxed Creative\"\n",
      "\"Diesel Pepper Pungent\"\n",
      "\"LAPD is a perfectly balanced hybrid named after parent strains, LA Confidential and Purple Diesel. A flavorful medley of sweet grape, earthy pine, and spicy pepper build the complex aroma of LAPD\\u2019s compact crimson and purple buds. Small to moderate doses induce a mellow, cerebral euphoria that sinks down to the rest of the body in a full physical calm. According to its breeders at California Bean Bank, LAPD\\u2019s abbreviated name appropriately describes these variable effects: \\u201cto protect and serve, or to take you out.\\u201d LAPD is typically chosen by patients treating pain, cramps, stress, and fatigue. This hybrid grows best in greenhouse gardens using sea or screen of green methods, with a flowering time of 50 to 60 days.\\u00a0\"\n",
      "4.7\n"
     ]
    }
   ],
   "source": [
    "recommend('hybrid-like in its balanced calm and moderate cerebral effects')"
   ]
  },
  {
   "cell_type": "code",
   "execution_count": null,
   "metadata": {},
   "outputs": [],
   "source": []
  }
 ],
 "metadata": {
  "kernelspec": {
   "display_name": "U4-S1-NLP (Python3)",
   "language": "python",
   "name": "u4-s1-nlp"
  },
  "language_info": {
   "codemirror_mode": {
    "name": "ipython",
    "version": 3
   },
   "file_extension": ".py",
   "mimetype": "text/x-python",
   "name": "python",
   "nbconvert_exporter": "python",
   "pygments_lexer": "ipython3",
   "version": "3.7.0"
  }
 },
 "nbformat": 4,
 "nbformat_minor": 4
}
