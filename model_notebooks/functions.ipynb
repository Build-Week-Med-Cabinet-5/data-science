{
 "cells": [
  {
   "cell_type": "code",
   "execution_count": 15,
   "metadata": {},
   "outputs": [],
   "source": [
    "import pandas as pd\n",
    "import re\n",
    "import string\n",
    "import matplotlib.pyplot as plt\n",
    "import numpy as np\n",
    "import spacy\n",
    "from sklearn.feature_extraction.text import CountVectorizer, TfidfVectorizer\n",
    "from sklearn.neighbors import NearestNeighbors"
   ]
  },
  {
   "cell_type": "code",
   "execution_count": 16,
   "metadata": {},
   "outputs": [],
   "source": [
    "df = pd.read_csv('data/cannabis.csv')"
   ]
  },
  {
   "cell_type": "code",
   "execution_count": 17,
   "metadata": {},
   "outputs": [],
   "source": [
    "df = df.replace('None', np.nan)\n",
    "df = df.dropna().reset_index()"
   ]
  },
  {
   "cell_type": "code",
   "execution_count": 18,
   "metadata": {},
   "outputs": [
    {
     "data": {
      "text/plain": [
       "NearestNeighbors(algorithm='kd_tree', leaf_size=30, metric='minkowski',\n",
       "                 metric_params=None, n_jobs=None, n_neighbors=4, p=2,\n",
       "                 radius=1.0)"
      ]
     },
     "execution_count": 18,
     "metadata": {},
     "output_type": "execute_result"
    }
   ],
   "source": [
    "tfidf = TfidfVectorizer(stop_words='english', max_features=5000)\n",
    "dtm = tfidf.fit_transform(df['Effects'])\n",
    "dtm = pd.DataFrame(dtm.todense(), columns=tfidf.get_feature_names())\n",
    "nn = NearestNeighbors(n_neighbors=4, algorithm='kd_tree')\n",
    "nn.fit(dtm)\n"
   ]
  },
  {
   "cell_type": "code",
   "execution_count": 19,
   "metadata": {},
   "outputs": [],
   "source": [
    "import pickle\n",
    "# Dump the trained classifier (nn)  with Pickle\n",
    "pickle_filename = 'model.pkl'\n",
    "pickled_model = open(pickle_filename, 'wb')  # Open the file to save as pkl file\n",
    "pickle.dump(nn, pickled_model)\n",
    "pickled_model.close() # Close the pickle instances"
   ]
  },
  {
   "cell_type": "code",
   "execution_count": 20,
   "metadata": {},
   "outputs": [
    {
     "name": "stdout",
     "output_type": "stream",
     "text": [
      "Loaded model ::  NearestNeighbors(algorithm='kd_tree', leaf_size=30, metric='minkowski',\n",
      "                 metric_params=None, n_jobs=None, n_neighbors=4, p=2,\n",
      "                 radius=1.0)\n"
     ]
    }
   ],
   "source": [
    "# Loading the saved model\n",
    "model_pkl = open(pickle_filename, 'rb')\n",
    "NN_model = pickle.load(model_pkl)\n",
    "print (\"Loaded model :: \", NN_model)  # print to verify"
   ]
  },
  {
   "cell_type": "code",
   "execution_count": 21,
   "metadata": {},
   "outputs": [],
   "source": [
    "import pickle\n",
    "# Dump the trained classifier (tfidf)  with Pickle\n",
    "pickle_filename_1 = 'tfidf.pkl'\n",
    "pickled_model_1 = open(pickle_filename_1, 'wb')  # Open the file to save as pkl file\n",
    "pickle.dump(tfidf, pickled_model_1)\n",
    "pickled_model_1.close() # Close the pickle instances"
   ]
  },
  {
   "cell_type": "code",
   "execution_count": 22,
   "metadata": {},
   "outputs": [
    {
     "name": "stdout",
     "output_type": "stream",
     "text": [
      "Loaded model ::  TfidfVectorizer(analyzer='word', binary=False, decode_error='strict',\n",
      "                dtype=<class 'numpy.float64'>, encoding='utf-8',\n",
      "                input='content', lowercase=True, max_df=1.0, max_features=5000,\n",
      "                min_df=1, ngram_range=(1, 1), norm='l2', preprocessor=None,\n",
      "                smooth_idf=True, stop_words='english', strip_accents=None,\n",
      "                sublinear_tf=False, token_pattern='(?u)\\\\b\\\\w\\\\w+\\\\b',\n",
      "                tokenizer=None, use_idf=True, vocabulary=None)\n"
     ]
    }
   ],
   "source": [
    "# Loading the saved model\n",
    "model_pkl_1 = open(pickle_filename_1, 'rb')\n",
    "tfidf_model = pickle.load(model_pkl_1)\n",
    "print (\"Loaded model :: \", tfidf_model)  # print to verify"
   ]
  },
  {
   "cell_type": "code",
   "execution_count": 23,
   "metadata": {},
   "outputs": [],
   "source": [
    "import json\n",
    "def recommend(user_input):\n",
    "    temp_df = NN_model.kneighbors(tfidf_model.transform([user_input]).todense())[1]\n",
    "    \n",
    "\n",
    "    #print(temp_df)\n",
    "    \n",
    "    for i in range(4):\n",
    "        info = df.iloc[temp_df[0][i]]['Strain']\n",
    "        info_effects = df.iloc[temp_df[0][i]]['Effects']\n",
    "        info_flavor = df.iloc[temp_df[0][i]]['Flavor']\n",
    "        info_description = df.iloc[temp_df[0][i]]['Description']\n",
    "        info_rating = df.iloc[temp_df[0][i]]['Rating']\n",
    "        \n",
    "        print(json.dumps(info))\n",
    "        print(json.dumps(info_effects))\n",
    "        print(json.dumps(info_flavor))\n",
    "        print(json.dumps(info_description))\n",
    "        print(json.dumps(info_rating))\n",
    "        \n",
    "        #return json.dumps(info)  #for engineeers, the return does not work in jupyter lab.  Should work in vsCode.\n",
    "        #return json.dumps(info_effects)\n",
    "        #return json.dumps(info_flavor)\n",
    "        #return json.dump(info_description)\n",
    "        #return json.dumps(info_rating)"
   ]
  },
  {
   "cell_type": "code",
   "execution_count": 24,
   "metadata": {},
   "outputs": [
    {
     "name": "stdout",
     "output_type": "stream",
     "text": [
      "\"Club-69\"\n",
      "\"Sleepy,Relaxed\"\n",
      "\"Diesel,Flowery,Earthy\"\n",
      "\"Club 69 is a special strain crafted by Josh D of Karma Genetics for Arizona\\u2019s own, Sunday Goods. This Kushy cross of Karmarado OG and Biker Kush is a knockout for consumers looking for a heavy, restful indica-dominant strain. The terpene profile is a mixture of gas and pine, leaving the consumer with clean floral notes on the exhale. Enjoy this strain with care as the effects have been known to be powerfully sedative with continued consumption.\"\n",
      "5.0\n",
      "\"Dawgfather-Og\"\n",
      "\"Sleepy,Relaxed\"\n",
      "\"Spicy/Herbal,Pepper,Pungent\"\n",
      "\"Dawgfather OG, or simply \\u201cThe Dawgfather,\\u201d is an indica-dominant hybrid created by AlphaKronik Genes capable of massive plant production and a healthier-than-average yield. With potency floating above 20%, this strain contends well with chronic pain, insomnia, Crohn's, and anxiety. Expect traditional notes of gas/chemicals, Kush, and some funkiness. Dawgfather OG offers a strong buzz with nuance worth exploring.\\u00a0\\u00a0\"\n",
      "4.1\n",
      "\"Buddhas-Hand\"\n",
      "\"Focused,Euphoric,Energetic,Aroused,Uplifted\"\n",
      "\"Citrus,Lemon,Pungent\"\n",
      "\"Buddha\\u2019s Hand is a sativa-dominant strain that was bred by combining genetics from Lemon Thai and Snow Lotus. Pungent aromas of citrus and wildflowers burst from the dense, trichome-caked buds. Easing stress without the cost of energy, Buddha\\u2019s Hand is your perfect daytime companion when you\\u2019re in need of a mood boost or focus.\"\n",
      "4.7\n",
      "\"Dieseltonic\"\n",
      "\"Relaxed,Sleepy,Giggly,Focused,Uplifted\"\n",
      "\"Diesel,Earthy,Woody\"\n",
      "\"Bred by Resin Seeds in Spain, Dieseltonic is a high-CBD hybrid cross between NYC Diesel and Cannatonic. With an equal THC and CBD content, Dieseltonic is a therapeutic variety used to treat mood disorders, pain, inflammation, spasms, and many other symptoms. Dieseltonic is energizing and uplifting with a sweet orange aroma. Its resistance to mildew and fungus makes Dieseltonic a great choice for novice growers, who can expect an 8 to 9 week flowering time indoors or an October outdoor harvest.\"\n",
      "4.1\n"
     ]
    }
   ],
   "source": [
    "recommend('relieving stress and muscle tension')"
   ]
  },
  {
   "cell_type": "code",
   "execution_count": null,
   "metadata": {},
   "outputs": [],
   "source": []
  },
  {
   "cell_type": "code",
   "execution_count": null,
   "metadata": {},
   "outputs": [],
   "source": []
  },
  {
   "cell_type": "code",
   "execution_count": null,
   "metadata": {},
   "outputs": [],
   "source": []
  },
  {
   "cell_type": "code",
   "execution_count": null,
   "metadata": {},
   "outputs": [],
   "source": []
  }
 ],
 "metadata": {
  "kernelspec": {
   "display_name": "U4-S1-NLP (Python3)",
   "language": "python",
   "name": "u4-s1-nlp"
  },
  "language_info": {
   "codemirror_mode": {
    "name": "ipython",
    "version": 3
   },
   "file_extension": ".py",
   "mimetype": "text/x-python",
   "name": "python",
   "nbconvert_exporter": "python",
   "pygments_lexer": "ipython3",
   "version": "3.7.0"
  }
 },
 "nbformat": 4,
 "nbformat_minor": 4
}
